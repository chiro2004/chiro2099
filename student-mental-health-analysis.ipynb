{
 "cells": [
  {
   "cell_type": "code",
   "execution_count": 1,
   "id": "882f89f0",
   "metadata": {
    "_cell_guid": "b1076dfc-b9ad-4769-8c92-a6c4dae69d19",
    "_uuid": "8f2839f25d086af736a60e9eeb907d3b93b6e0e5",
    "execution": {
     "iopub.execute_input": "2023-12-28T16:38:51.791101Z",
     "iopub.status.busy": "2023-12-28T16:38:51.790501Z",
     "iopub.status.idle": "2023-12-28T16:38:52.712893Z",
     "shell.execute_reply": "2023-12-28T16:38:52.711544Z"
    },
    "papermill": {
     "duration": 0.936438,
     "end_time": "2023-12-28T16:38:52.715747",
     "exception": false,
     "start_time": "2023-12-28T16:38:51.779309",
     "status": "completed"
    },
    "tags": []
   },
   "outputs": [
    {
     "name": "stdout",
     "output_type": "stream",
     "text": [
      "/kaggle/input/student-mental-health/Student Mental health.csv\n"
     ]
    }
   ],
   "source": [
    "# This Python 3 environment comes with many helpful analytics libraries installed\n",
    "# It is defined by the kaggle/python Docker image: https://github.com/kaggle/docker-python\n",
    "# For example, here's several helpful packages to load\n",
    "\n",
    "import numpy as np # linear algebra\n",
    "import pandas as pd # data processing, CSV file I/O (e.g. pd.read_csv)\n",
    "\n",
    "# Input data files are available in the read-only \"../input/\" directory\n",
    "# For example, running this (by clicking run or pressing Shift+Enter) will list all files under the input directory\n",
    "\n",
    "import os\n",
    "for dirname, _, filenames in os.walk('/kaggle/input'):\n",
    "    for filename in filenames:\n",
    "        print(os.path.join(dirname, filename))\n",
    "\n",
    "# You can write up to 20GB to the current directory (/kaggle/working/) that gets preserved as output when you create a version using \"Save & Run All\" \n",
    "# You can also write temporary files to /kaggle/temp/, but they won't be saved outside of the current session"
   ]
  },
  {
   "cell_type": "code",
   "execution_count": 2,
   "id": "51a7d0c5",
   "metadata": {
    "execution": {
     "iopub.execute_input": "2023-12-28T16:38:52.737111Z",
     "iopub.status.busy": "2023-12-28T16:38:52.736586Z",
     "iopub.status.idle": "2023-12-28T16:38:52.741567Z",
     "shell.execute_reply": "2023-12-28T16:38:52.740380Z"
    },
    "papermill": {
     "duration": 0.018346,
     "end_time": "2023-12-28T16:38:52.743819",
     "exception": false,
     "start_time": "2023-12-28T16:38:52.725473",
     "status": "completed"
    },
    "tags": []
   },
   "outputs": [],
   "source": [
    "import pandas as pd\n",
    "import numpy as np\n"
   ]
  },
  {
   "cell_type": "code",
   "execution_count": 3,
   "id": "99dcab9f",
   "metadata": {
    "execution": {
     "iopub.execute_input": "2023-12-28T16:38:52.766188Z",
     "iopub.status.busy": "2023-12-28T16:38:52.765460Z",
     "iopub.status.idle": "2023-12-28T16:38:52.807024Z",
     "shell.execute_reply": "2023-12-28T16:38:52.805852Z"
    },
    "papermill": {
     "duration": 0.056097,
     "end_time": "2023-12-28T16:38:52.809629",
     "exception": false,
     "start_time": "2023-12-28T16:38:52.753532",
     "status": "completed"
    },
    "tags": []
   },
   "outputs": [
    {
     "data": {
      "text/html": [
       "<div>\n",
       "<style scoped>\n",
       "    .dataframe tbody tr th:only-of-type {\n",
       "        vertical-align: middle;\n",
       "    }\n",
       "\n",
       "    .dataframe tbody tr th {\n",
       "        vertical-align: top;\n",
       "    }\n",
       "\n",
       "    .dataframe thead th {\n",
       "        text-align: right;\n",
       "    }\n",
       "</style>\n",
       "<table border=\"1\" class=\"dataframe\">\n",
       "  <thead>\n",
       "    <tr style=\"text-align: right;\">\n",
       "      <th></th>\n",
       "      <th>Timestamp</th>\n",
       "      <th>Choose your gender</th>\n",
       "      <th>Age</th>\n",
       "      <th>What is your course?</th>\n",
       "      <th>Your current year of Study</th>\n",
       "      <th>What is your CGPA?</th>\n",
       "      <th>Marital status</th>\n",
       "      <th>Do you have Depression?</th>\n",
       "      <th>Do you have Anxiety?</th>\n",
       "      <th>Do you have Panic attack?</th>\n",
       "      <th>Did you seek any specialist for a treatment?</th>\n",
       "    </tr>\n",
       "  </thead>\n",
       "  <tbody>\n",
       "    <tr>\n",
       "      <th>0</th>\n",
       "      <td>8/7/2020 12:02</td>\n",
       "      <td>Female</td>\n",
       "      <td>18.0</td>\n",
       "      <td>Engineering</td>\n",
       "      <td>year 1</td>\n",
       "      <td>3.00 - 3.49</td>\n",
       "      <td>No</td>\n",
       "      <td>Yes</td>\n",
       "      <td>No</td>\n",
       "      <td>Yes</td>\n",
       "      <td>No</td>\n",
       "    </tr>\n",
       "    <tr>\n",
       "      <th>1</th>\n",
       "      <td>8/7/2020 12:04</td>\n",
       "      <td>Male</td>\n",
       "      <td>21.0</td>\n",
       "      <td>Islamic education</td>\n",
       "      <td>year 2</td>\n",
       "      <td>3.00 - 3.49</td>\n",
       "      <td>No</td>\n",
       "      <td>No</td>\n",
       "      <td>Yes</td>\n",
       "      <td>No</td>\n",
       "      <td>No</td>\n",
       "    </tr>\n",
       "    <tr>\n",
       "      <th>2</th>\n",
       "      <td>8/7/2020 12:05</td>\n",
       "      <td>Male</td>\n",
       "      <td>19.0</td>\n",
       "      <td>BIT</td>\n",
       "      <td>Year 1</td>\n",
       "      <td>3.00 - 3.49</td>\n",
       "      <td>No</td>\n",
       "      <td>Yes</td>\n",
       "      <td>Yes</td>\n",
       "      <td>Yes</td>\n",
       "      <td>No</td>\n",
       "    </tr>\n",
       "    <tr>\n",
       "      <th>3</th>\n",
       "      <td>8/7/2020 12:06</td>\n",
       "      <td>Female</td>\n",
       "      <td>22.0</td>\n",
       "      <td>Laws</td>\n",
       "      <td>year 3</td>\n",
       "      <td>3.00 - 3.49</td>\n",
       "      <td>Yes</td>\n",
       "      <td>Yes</td>\n",
       "      <td>No</td>\n",
       "      <td>No</td>\n",
       "      <td>No</td>\n",
       "    </tr>\n",
       "    <tr>\n",
       "      <th>4</th>\n",
       "      <td>8/7/2020 12:13</td>\n",
       "      <td>Male</td>\n",
       "      <td>23.0</td>\n",
       "      <td>Mathemathics</td>\n",
       "      <td>year 4</td>\n",
       "      <td>3.00 - 3.49</td>\n",
       "      <td>No</td>\n",
       "      <td>No</td>\n",
       "      <td>No</td>\n",
       "      <td>No</td>\n",
       "      <td>No</td>\n",
       "    </tr>\n",
       "  </tbody>\n",
       "</table>\n",
       "</div>"
      ],
      "text/plain": [
       "        Timestamp Choose your gender   Age What is your course?  \\\n",
       "0  8/7/2020 12:02             Female  18.0          Engineering   \n",
       "1  8/7/2020 12:04               Male  21.0    Islamic education   \n",
       "2  8/7/2020 12:05               Male  19.0                  BIT   \n",
       "3  8/7/2020 12:06             Female  22.0                 Laws   \n",
       "4  8/7/2020 12:13               Male  23.0         Mathemathics   \n",
       "\n",
       "  Your current year of Study What is your CGPA? Marital status  \\\n",
       "0                     year 1        3.00 - 3.49             No   \n",
       "1                     year 2        3.00 - 3.49             No   \n",
       "2                     Year 1        3.00 - 3.49             No   \n",
       "3                     year 3        3.00 - 3.49            Yes   \n",
       "4                     year 4        3.00 - 3.49             No   \n",
       "\n",
       "  Do you have Depression? Do you have Anxiety? Do you have Panic attack?  \\\n",
       "0                     Yes                   No                       Yes   \n",
       "1                      No                  Yes                        No   \n",
       "2                     Yes                  Yes                       Yes   \n",
       "3                     Yes                   No                        No   \n",
       "4                      No                   No                        No   \n",
       "\n",
       "  Did you seek any specialist for a treatment?  \n",
       "0                                           No  \n",
       "1                                           No  \n",
       "2                                           No  \n",
       "3                                           No  \n",
       "4                                           No  "
      ]
     },
     "execution_count": 3,
     "metadata": {},
     "output_type": "execute_result"
    }
   ],
   "source": [
    "df=pd.read_csv('/kaggle/input/student-mental-health/Student Mental health.csv')\n",
    "df.head()"
   ]
  },
  {
   "cell_type": "code",
   "execution_count": 4,
   "id": "fc854318",
   "metadata": {
    "execution": {
     "iopub.execute_input": "2023-12-28T16:38:52.831460Z",
     "iopub.status.busy": "2023-12-28T16:38:52.830999Z",
     "iopub.status.idle": "2023-12-28T16:38:52.837233Z",
     "shell.execute_reply": "2023-12-28T16:38:52.836449Z"
    },
    "papermill": {
     "duration": 0.019487,
     "end_time": "2023-12-28T16:38:52.839229",
     "exception": false,
     "start_time": "2023-12-28T16:38:52.819742",
     "status": "completed"
    },
    "tags": []
   },
   "outputs": [
    {
     "data": {
      "text/plain": [
       "(101, 11)"
      ]
     },
     "execution_count": 4,
     "metadata": {},
     "output_type": "execute_result"
    }
   ],
   "source": [
    "df.shape"
   ]
  },
  {
   "cell_type": "code",
   "execution_count": 5,
   "id": "1da9fa82",
   "metadata": {
    "execution": {
     "iopub.execute_input": "2023-12-28T16:38:52.860971Z",
     "iopub.status.busy": "2023-12-28T16:38:52.860339Z",
     "iopub.status.idle": "2023-12-28T16:38:52.873385Z",
     "shell.execute_reply": "2023-12-28T16:38:52.872482Z"
    },
    "papermill": {
     "duration": 0.026773,
     "end_time": "2023-12-28T16:38:52.875910",
     "exception": false,
     "start_time": "2023-12-28T16:38:52.849137",
     "status": "completed"
    },
    "tags": []
   },
   "outputs": [
    {
     "data": {
      "text/plain": [
       "What is your CGPA?\n",
       "3.50 - 4.00     47\n",
       "3.00 - 3.49     43\n",
       "2.50 - 2.99      4\n",
       "0 - 1.99         4\n",
       "2.00 - 2.49      2\n",
       "3.50 - 4.00      1\n",
       "Name: count, dtype: int64"
      ]
     },
     "execution_count": 5,
     "metadata": {},
     "output_type": "execute_result"
    }
   ],
   "source": [
    "df['What is your CGPA?'].value_counts()\n"
   ]
  },
  {
   "cell_type": "code",
   "execution_count": 6,
   "id": "a9b06ebf",
   "metadata": {
    "execution": {
     "iopub.execute_input": "2023-12-28T16:38:52.898273Z",
     "iopub.status.busy": "2023-12-28T16:38:52.897820Z",
     "iopub.status.idle": "2023-12-28T16:38:52.906795Z",
     "shell.execute_reply": "2023-12-28T16:38:52.905579Z"
    },
    "papermill": {
     "duration": 0.022889,
     "end_time": "2023-12-28T16:38:52.909219",
     "exception": false,
     "start_time": "2023-12-28T16:38:52.886330",
     "status": "completed"
    },
    "tags": []
   },
   "outputs": [],
   "source": [
    "def grade_determiner(value):\n",
    "    if(value=='0 - 1.99 '):\n",
    "        return 'NP'\n",
    "    elif(value=='2.00 - 2.49'):\n",
    "        return 'D'\n",
    "    elif(value=='2.50 - 2.99'):\n",
    "        return 'C'    \n",
    "    elif(value=='3.00 - 3.49'):\n",
    "        return 'B'\n",
    "    else:\n",
    "        return 'A'\n",
    "    \n",
    "df['What is your CGPA?']  =df['What is your CGPA?'].apply(grade_determiner)  "
   ]
  },
  {
   "cell_type": "code",
   "execution_count": 7,
   "id": "5cca3940",
   "metadata": {
    "execution": {
     "iopub.execute_input": "2023-12-28T16:38:52.930919Z",
     "iopub.status.busy": "2023-12-28T16:38:52.930527Z",
     "iopub.status.idle": "2023-12-28T16:38:52.939798Z",
     "shell.execute_reply": "2023-12-28T16:38:52.938510Z"
    },
    "papermill": {
     "duration": 0.022706,
     "end_time": "2023-12-28T16:38:52.942108",
     "exception": false,
     "start_time": "2023-12-28T16:38:52.919402",
     "status": "completed"
    },
    "tags": []
   },
   "outputs": [
    {
     "data": {
      "text/plain": [
       "0      B\n",
       "1      B\n",
       "2      B\n",
       "3      B\n",
       "4      B\n",
       "      ..\n",
       "96     A\n",
       "97     B\n",
       "98     A\n",
       "99     A\n",
       "100    B\n",
       "Name: What is your CGPA?, Length: 101, dtype: object"
      ]
     },
     "execution_count": 7,
     "metadata": {},
     "output_type": "execute_result"
    }
   ],
   "source": [
    "df['What is your CGPA?']"
   ]
  },
  {
   "cell_type": "code",
   "execution_count": 8,
   "id": "340bc4c9",
   "metadata": {
    "execution": {
     "iopub.execute_input": "2023-12-28T16:38:52.964671Z",
     "iopub.status.busy": "2023-12-28T16:38:52.964286Z",
     "iopub.status.idle": "2023-12-28T16:38:52.972646Z",
     "shell.execute_reply": "2023-12-28T16:38:52.971581Z"
    },
    "papermill": {
     "duration": 0.021839,
     "end_time": "2023-12-28T16:38:52.974797",
     "exception": false,
     "start_time": "2023-12-28T16:38:52.952958",
     "status": "completed"
    },
    "tags": []
   },
   "outputs": [
    {
     "data": {
      "text/plain": [
       "What is your CGPA?\n",
       "A    52\n",
       "B    43\n",
       "C     4\n",
       "D     2\n",
       "Name: count, dtype: int64"
      ]
     },
     "execution_count": 8,
     "metadata": {},
     "output_type": "execute_result"
    }
   ],
   "source": [
    "df['What is your CGPA?'].value_counts()"
   ]
  },
  {
   "cell_type": "code",
   "execution_count": 9,
   "id": "7aaf3a56",
   "metadata": {
    "execution": {
     "iopub.execute_input": "2023-12-28T16:38:52.996655Z",
     "iopub.status.busy": "2023-12-28T16:38:52.996272Z",
     "iopub.status.idle": "2023-12-28T16:38:53.003597Z",
     "shell.execute_reply": "2023-12-28T16:38:53.002369Z"
    },
    "papermill": {
     "duration": 0.021254,
     "end_time": "2023-12-28T16:38:53.006091",
     "exception": false,
     "start_time": "2023-12-28T16:38:52.984837",
     "status": "completed"
    },
    "tags": []
   },
   "outputs": [
    {
     "data": {
      "text/plain": [
       "Index(['Timestamp', 'Choose your gender', 'Age', 'What is your course?',\n",
       "       'Your current year of Study', 'What is your CGPA?', 'Marital status',\n",
       "       'Do you have Depression?', 'Do you have Anxiety?',\n",
       "       'Do you have Panic attack?',\n",
       "       'Did you seek any specialist for a treatment?'],\n",
       "      dtype='object')"
      ]
     },
     "execution_count": 9,
     "metadata": {},
     "output_type": "execute_result"
    }
   ],
   "source": [
    "df.columns"
   ]
  },
  {
   "cell_type": "code",
   "execution_count": 10,
   "id": "a21cb68e",
   "metadata": {
    "execution": {
     "iopub.execute_input": "2023-12-28T16:38:53.028356Z",
     "iopub.status.busy": "2023-12-28T16:38:53.027962Z",
     "iopub.status.idle": "2023-12-28T16:38:53.033487Z",
     "shell.execute_reply": "2023-12-28T16:38:53.032370Z"
    },
    "papermill": {
     "duration": 0.01932,
     "end_time": "2023-12-28T16:38:53.035735",
     "exception": false,
     "start_time": "2023-12-28T16:38:53.016415",
     "status": "completed"
    },
    "tags": []
   },
   "outputs": [],
   "source": [
    "df.columns=['Time','Gender','Age','Course','Year','CGPA','Marital status','Depression','Anxiety','Panic Attacks','Specialist Treatment']"
   ]
  },
  {
   "cell_type": "code",
   "execution_count": 11,
   "id": "39d93f85",
   "metadata": {
    "execution": {
     "iopub.execute_input": "2023-12-28T16:38:53.057547Z",
     "iopub.status.busy": "2023-12-28T16:38:53.057137Z",
     "iopub.status.idle": "2023-12-28T16:38:53.072737Z",
     "shell.execute_reply": "2023-12-28T16:38:53.071465Z"
    },
    "papermill": {
     "duration": 0.02889,
     "end_time": "2023-12-28T16:38:53.074790",
     "exception": false,
     "start_time": "2023-12-28T16:38:53.045900",
     "status": "completed"
    },
    "tags": []
   },
   "outputs": [
    {
     "data": {
      "text/html": [
       "<div>\n",
       "<style scoped>\n",
       "    .dataframe tbody tr th:only-of-type {\n",
       "        vertical-align: middle;\n",
       "    }\n",
       "\n",
       "    .dataframe tbody tr th {\n",
       "        vertical-align: top;\n",
       "    }\n",
       "\n",
       "    .dataframe thead th {\n",
       "        text-align: right;\n",
       "    }\n",
       "</style>\n",
       "<table border=\"1\" class=\"dataframe\">\n",
       "  <thead>\n",
       "    <tr style=\"text-align: right;\">\n",
       "      <th></th>\n",
       "      <th>Time</th>\n",
       "      <th>Gender</th>\n",
       "      <th>Age</th>\n",
       "      <th>Course</th>\n",
       "      <th>Year</th>\n",
       "      <th>CGPA</th>\n",
       "      <th>Marital status</th>\n",
       "      <th>Depression</th>\n",
       "      <th>Anxiety</th>\n",
       "      <th>Panic Attacks</th>\n",
       "      <th>Specialist Treatment</th>\n",
       "    </tr>\n",
       "  </thead>\n",
       "  <tbody>\n",
       "    <tr>\n",
       "      <th>0</th>\n",
       "      <td>8/7/2020 12:02</td>\n",
       "      <td>Female</td>\n",
       "      <td>18.0</td>\n",
       "      <td>Engineering</td>\n",
       "      <td>year 1</td>\n",
       "      <td>B</td>\n",
       "      <td>No</td>\n",
       "      <td>Yes</td>\n",
       "      <td>No</td>\n",
       "      <td>Yes</td>\n",
       "      <td>No</td>\n",
       "    </tr>\n",
       "    <tr>\n",
       "      <th>1</th>\n",
       "      <td>8/7/2020 12:04</td>\n",
       "      <td>Male</td>\n",
       "      <td>21.0</td>\n",
       "      <td>Islamic education</td>\n",
       "      <td>year 2</td>\n",
       "      <td>B</td>\n",
       "      <td>No</td>\n",
       "      <td>No</td>\n",
       "      <td>Yes</td>\n",
       "      <td>No</td>\n",
       "      <td>No</td>\n",
       "    </tr>\n",
       "    <tr>\n",
       "      <th>2</th>\n",
       "      <td>8/7/2020 12:05</td>\n",
       "      <td>Male</td>\n",
       "      <td>19.0</td>\n",
       "      <td>BIT</td>\n",
       "      <td>Year 1</td>\n",
       "      <td>B</td>\n",
       "      <td>No</td>\n",
       "      <td>Yes</td>\n",
       "      <td>Yes</td>\n",
       "      <td>Yes</td>\n",
       "      <td>No</td>\n",
       "    </tr>\n",
       "    <tr>\n",
       "      <th>3</th>\n",
       "      <td>8/7/2020 12:06</td>\n",
       "      <td>Female</td>\n",
       "      <td>22.0</td>\n",
       "      <td>Laws</td>\n",
       "      <td>year 3</td>\n",
       "      <td>B</td>\n",
       "      <td>Yes</td>\n",
       "      <td>Yes</td>\n",
       "      <td>No</td>\n",
       "      <td>No</td>\n",
       "      <td>No</td>\n",
       "    </tr>\n",
       "    <tr>\n",
       "      <th>4</th>\n",
       "      <td>8/7/2020 12:13</td>\n",
       "      <td>Male</td>\n",
       "      <td>23.0</td>\n",
       "      <td>Mathemathics</td>\n",
       "      <td>year 4</td>\n",
       "      <td>B</td>\n",
       "      <td>No</td>\n",
       "      <td>No</td>\n",
       "      <td>No</td>\n",
       "      <td>No</td>\n",
       "      <td>No</td>\n",
       "    </tr>\n",
       "  </tbody>\n",
       "</table>\n",
       "</div>"
      ],
      "text/plain": [
       "             Time  Gender   Age             Course    Year CGPA  \\\n",
       "0  8/7/2020 12:02  Female  18.0        Engineering  year 1    B   \n",
       "1  8/7/2020 12:04    Male  21.0  Islamic education  year 2    B   \n",
       "2  8/7/2020 12:05    Male  19.0                BIT  Year 1    B   \n",
       "3  8/7/2020 12:06  Female  22.0               Laws  year 3    B   \n",
       "4  8/7/2020 12:13    Male  23.0       Mathemathics  year 4    B   \n",
       "\n",
       "  Marital status Depression Anxiety Panic Attacks Specialist Treatment  \n",
       "0             No        Yes      No           Yes                   No  \n",
       "1             No         No     Yes            No                   No  \n",
       "2             No        Yes     Yes           Yes                   No  \n",
       "3            Yes        Yes      No            No                   No  \n",
       "4             No         No      No            No                   No  "
      ]
     },
     "execution_count": 11,
     "metadata": {},
     "output_type": "execute_result"
    }
   ],
   "source": [
    "df.head()"
   ]
  },
  {
   "cell_type": "code",
   "execution_count": 12,
   "id": "be23ee17",
   "metadata": {
    "execution": {
     "iopub.execute_input": "2023-12-28T16:38:53.097827Z",
     "iopub.status.busy": "2023-12-28T16:38:53.097419Z",
     "iopub.status.idle": "2023-12-28T16:38:53.106453Z",
     "shell.execute_reply": "2023-12-28T16:38:53.105112Z"
    },
    "papermill": {
     "duration": 0.023263,
     "end_time": "2023-12-28T16:38:53.108667",
     "exception": false,
     "start_time": "2023-12-28T16:38:53.085404",
     "status": "completed"
    },
    "tags": []
   },
   "outputs": [],
   "source": [
    "df=df.drop('Time',axis='columns')"
   ]
  },
  {
   "cell_type": "code",
   "execution_count": 13,
   "id": "e419cbcb",
   "metadata": {
    "execution": {
     "iopub.execute_input": "2023-12-28T16:38:53.132001Z",
     "iopub.status.busy": "2023-12-28T16:38:53.131645Z",
     "iopub.status.idle": "2023-12-28T16:38:53.147027Z",
     "shell.execute_reply": "2023-12-28T16:38:53.145686Z"
    },
    "papermill": {
     "duration": 0.029729,
     "end_time": "2023-12-28T16:38:53.149540",
     "exception": false,
     "start_time": "2023-12-28T16:38:53.119811",
     "status": "completed"
    },
    "tags": []
   },
   "outputs": [
    {
     "data": {
      "text/html": [
       "<div>\n",
       "<style scoped>\n",
       "    .dataframe tbody tr th:only-of-type {\n",
       "        vertical-align: middle;\n",
       "    }\n",
       "\n",
       "    .dataframe tbody tr th {\n",
       "        vertical-align: top;\n",
       "    }\n",
       "\n",
       "    .dataframe thead th {\n",
       "        text-align: right;\n",
       "    }\n",
       "</style>\n",
       "<table border=\"1\" class=\"dataframe\">\n",
       "  <thead>\n",
       "    <tr style=\"text-align: right;\">\n",
       "      <th></th>\n",
       "      <th>Gender</th>\n",
       "      <th>Age</th>\n",
       "      <th>Course</th>\n",
       "      <th>Year</th>\n",
       "      <th>CGPA</th>\n",
       "      <th>Marital status</th>\n",
       "      <th>Depression</th>\n",
       "      <th>Anxiety</th>\n",
       "      <th>Panic Attacks</th>\n",
       "      <th>Specialist Treatment</th>\n",
       "    </tr>\n",
       "  </thead>\n",
       "  <tbody>\n",
       "    <tr>\n",
       "      <th>0</th>\n",
       "      <td>Female</td>\n",
       "      <td>18.0</td>\n",
       "      <td>Engineering</td>\n",
       "      <td>year 1</td>\n",
       "      <td>B</td>\n",
       "      <td>No</td>\n",
       "      <td>Yes</td>\n",
       "      <td>No</td>\n",
       "      <td>Yes</td>\n",
       "      <td>No</td>\n",
       "    </tr>\n",
       "    <tr>\n",
       "      <th>1</th>\n",
       "      <td>Male</td>\n",
       "      <td>21.0</td>\n",
       "      <td>Islamic education</td>\n",
       "      <td>year 2</td>\n",
       "      <td>B</td>\n",
       "      <td>No</td>\n",
       "      <td>No</td>\n",
       "      <td>Yes</td>\n",
       "      <td>No</td>\n",
       "      <td>No</td>\n",
       "    </tr>\n",
       "    <tr>\n",
       "      <th>2</th>\n",
       "      <td>Male</td>\n",
       "      <td>19.0</td>\n",
       "      <td>BIT</td>\n",
       "      <td>Year 1</td>\n",
       "      <td>B</td>\n",
       "      <td>No</td>\n",
       "      <td>Yes</td>\n",
       "      <td>Yes</td>\n",
       "      <td>Yes</td>\n",
       "      <td>No</td>\n",
       "    </tr>\n",
       "    <tr>\n",
       "      <th>3</th>\n",
       "      <td>Female</td>\n",
       "      <td>22.0</td>\n",
       "      <td>Laws</td>\n",
       "      <td>year 3</td>\n",
       "      <td>B</td>\n",
       "      <td>Yes</td>\n",
       "      <td>Yes</td>\n",
       "      <td>No</td>\n",
       "      <td>No</td>\n",
       "      <td>No</td>\n",
       "    </tr>\n",
       "    <tr>\n",
       "      <th>4</th>\n",
       "      <td>Male</td>\n",
       "      <td>23.0</td>\n",
       "      <td>Mathemathics</td>\n",
       "      <td>year 4</td>\n",
       "      <td>B</td>\n",
       "      <td>No</td>\n",
       "      <td>No</td>\n",
       "      <td>No</td>\n",
       "      <td>No</td>\n",
       "      <td>No</td>\n",
       "    </tr>\n",
       "  </tbody>\n",
       "</table>\n",
       "</div>"
      ],
      "text/plain": [
       "   Gender   Age             Course    Year CGPA Marital status Depression  \\\n",
       "0  Female  18.0        Engineering  year 1    B             No        Yes   \n",
       "1    Male  21.0  Islamic education  year 2    B             No         No   \n",
       "2    Male  19.0                BIT  Year 1    B             No        Yes   \n",
       "3  Female  22.0               Laws  year 3    B            Yes        Yes   \n",
       "4    Male  23.0       Mathemathics  year 4    B             No         No   \n",
       "\n",
       "  Anxiety Panic Attacks Specialist Treatment  \n",
       "0      No           Yes                   No  \n",
       "1     Yes            No                   No  \n",
       "2     Yes           Yes                   No  \n",
       "3      No            No                   No  \n",
       "4      No            No                   No  "
      ]
     },
     "execution_count": 13,
     "metadata": {},
     "output_type": "execute_result"
    }
   ],
   "source": [
    "df.head()"
   ]
  },
  {
   "cell_type": "code",
   "execution_count": 14,
   "id": "da7c65af",
   "metadata": {
    "execution": {
     "iopub.execute_input": "2023-12-28T16:38:53.232961Z",
     "iopub.status.busy": "2023-12-28T16:38:53.231951Z",
     "iopub.status.idle": "2023-12-28T16:38:53.253214Z",
     "shell.execute_reply": "2023-12-28T16:38:53.252377Z"
    },
    "papermill": {
     "duration": 0.035417,
     "end_time": "2023-12-28T16:38:53.255481",
     "exception": false,
     "start_time": "2023-12-28T16:38:53.220064",
     "status": "completed"
    },
    "tags": []
   },
   "outputs": [
    {
     "data": {
      "text/html": [
       "<div>\n",
       "<style scoped>\n",
       "    .dataframe tbody tr th:only-of-type {\n",
       "        vertical-align: middle;\n",
       "    }\n",
       "\n",
       "    .dataframe tbody tr th {\n",
       "        vertical-align: top;\n",
       "    }\n",
       "\n",
       "    .dataframe thead th {\n",
       "        text-align: right;\n",
       "    }\n",
       "</style>\n",
       "<table border=\"1\" class=\"dataframe\">\n",
       "  <thead>\n",
       "    <tr style=\"text-align: right;\">\n",
       "      <th></th>\n",
       "      <th>Gender</th>\n",
       "      <th>Age</th>\n",
       "      <th>Course</th>\n",
       "      <th>Year</th>\n",
       "      <th>CGPA</th>\n",
       "      <th>Marital status</th>\n",
       "      <th>Depression</th>\n",
       "      <th>Anxiety</th>\n",
       "      <th>Panic Attacks</th>\n",
       "      <th>Specialist Treatment</th>\n",
       "    </tr>\n",
       "  </thead>\n",
       "  <tbody>\n",
       "    <tr>\n",
       "      <th>1</th>\n",
       "      <td>Male</td>\n",
       "      <td>21.0</td>\n",
       "      <td>Islamic education</td>\n",
       "      <td>year 2</td>\n",
       "      <td>B</td>\n",
       "      <td>No</td>\n",
       "      <td>No</td>\n",
       "      <td>Yes</td>\n",
       "      <td>No</td>\n",
       "      <td>No</td>\n",
       "    </tr>\n",
       "    <tr>\n",
       "      <th>4</th>\n",
       "      <td>Male</td>\n",
       "      <td>23.0</td>\n",
       "      <td>Mathemathics</td>\n",
       "      <td>year 4</td>\n",
       "      <td>B</td>\n",
       "      <td>No</td>\n",
       "      <td>No</td>\n",
       "      <td>No</td>\n",
       "      <td>No</td>\n",
       "      <td>No</td>\n",
       "    </tr>\n",
       "    <tr>\n",
       "      <th>5</th>\n",
       "      <td>Male</td>\n",
       "      <td>19.0</td>\n",
       "      <td>Engineering</td>\n",
       "      <td>Year 2</td>\n",
       "      <td>A</td>\n",
       "      <td>No</td>\n",
       "      <td>No</td>\n",
       "      <td>No</td>\n",
       "      <td>Yes</td>\n",
       "      <td>No</td>\n",
       "    </tr>\n",
       "    <tr>\n",
       "      <th>7</th>\n",
       "      <td>Female</td>\n",
       "      <td>18.0</td>\n",
       "      <td>BCS</td>\n",
       "      <td>year 1</td>\n",
       "      <td>A</td>\n",
       "      <td>No</td>\n",
       "      <td>No</td>\n",
       "      <td>Yes</td>\n",
       "      <td>No</td>\n",
       "      <td>No</td>\n",
       "    </tr>\n",
       "    <tr>\n",
       "      <th>8</th>\n",
       "      <td>Female</td>\n",
       "      <td>19.0</td>\n",
       "      <td>Human Resources</td>\n",
       "      <td>Year 2</td>\n",
       "      <td>C</td>\n",
       "      <td>No</td>\n",
       "      <td>No</td>\n",
       "      <td>No</td>\n",
       "      <td>No</td>\n",
       "      <td>No</td>\n",
       "    </tr>\n",
       "    <tr>\n",
       "      <th>...</th>\n",
       "      <td>...</td>\n",
       "      <td>...</td>\n",
       "      <td>...</td>\n",
       "      <td>...</td>\n",
       "      <td>...</td>\n",
       "      <td>...</td>\n",
       "      <td>...</td>\n",
       "      <td>...</td>\n",
       "      <td>...</td>\n",
       "      <td>...</td>\n",
       "    </tr>\n",
       "    <tr>\n",
       "      <th>94</th>\n",
       "      <td>Female</td>\n",
       "      <td>24.0</td>\n",
       "      <td>Fiqh</td>\n",
       "      <td>Year 3</td>\n",
       "      <td>A</td>\n",
       "      <td>No</td>\n",
       "      <td>No</td>\n",
       "      <td>No</td>\n",
       "      <td>Yes</td>\n",
       "      <td>No</td>\n",
       "    </tr>\n",
       "    <tr>\n",
       "      <th>95</th>\n",
       "      <td>Female</td>\n",
       "      <td>18.0</td>\n",
       "      <td>Islamic Education</td>\n",
       "      <td>year 1</td>\n",
       "      <td>A</td>\n",
       "      <td>No</td>\n",
       "      <td>No</td>\n",
       "      <td>No</td>\n",
       "      <td>No</td>\n",
       "      <td>No</td>\n",
       "    </tr>\n",
       "    <tr>\n",
       "      <th>96</th>\n",
       "      <td>Female</td>\n",
       "      <td>21.0</td>\n",
       "      <td>BCS</td>\n",
       "      <td>year 1</td>\n",
       "      <td>A</td>\n",
       "      <td>No</td>\n",
       "      <td>No</td>\n",
       "      <td>Yes</td>\n",
       "      <td>No</td>\n",
       "      <td>No</td>\n",
       "    </tr>\n",
       "    <tr>\n",
       "      <th>99</th>\n",
       "      <td>Female</td>\n",
       "      <td>23.0</td>\n",
       "      <td>Pendidikan Islam</td>\n",
       "      <td>year 4</td>\n",
       "      <td>A</td>\n",
       "      <td>No</td>\n",
       "      <td>No</td>\n",
       "      <td>No</td>\n",
       "      <td>No</td>\n",
       "      <td>No</td>\n",
       "    </tr>\n",
       "    <tr>\n",
       "      <th>100</th>\n",
       "      <td>Male</td>\n",
       "      <td>20.0</td>\n",
       "      <td>Biomedical science</td>\n",
       "      <td>Year 2</td>\n",
       "      <td>B</td>\n",
       "      <td>No</td>\n",
       "      <td>No</td>\n",
       "      <td>No</td>\n",
       "      <td>No</td>\n",
       "      <td>No</td>\n",
       "    </tr>\n",
       "  </tbody>\n",
       "</table>\n",
       "<p>66 rows × 10 columns</p>\n",
       "</div>"
      ],
      "text/plain": [
       "     Gender   Age              Course    Year CGPA Marital status Depression  \\\n",
       "1      Male  21.0   Islamic education  year 2    B             No         No   \n",
       "4      Male  23.0        Mathemathics  year 4    B             No         No   \n",
       "5      Male  19.0         Engineering  Year 2    A             No         No   \n",
       "7    Female  18.0                 BCS  year 1    A             No         No   \n",
       "8    Female  19.0     Human Resources  Year 2    C             No         No   \n",
       "..      ...   ...                 ...     ...  ...            ...        ...   \n",
       "94   Female  24.0                Fiqh  Year 3    A             No         No   \n",
       "95   Female  18.0   Islamic Education  year 1    A             No         No   \n",
       "96   Female  21.0                 BCS  year 1    A             No         No   \n",
       "99   Female  23.0    Pendidikan Islam  year 4    A             No         No   \n",
       "100    Male  20.0  Biomedical science  Year 2    B             No         No   \n",
       "\n",
       "    Anxiety Panic Attacks Specialist Treatment  \n",
       "1       Yes            No                   No  \n",
       "4        No            No                   No  \n",
       "5        No           Yes                   No  \n",
       "7       Yes            No                   No  \n",
       "8        No            No                   No  \n",
       "..      ...           ...                  ...  \n",
       "94       No           Yes                   No  \n",
       "95       No            No                   No  \n",
       "96      Yes            No                   No  \n",
       "99       No            No                   No  \n",
       "100      No            No                   No  \n",
       "\n",
       "[66 rows x 10 columns]"
      ]
     },
     "execution_count": 14,
     "metadata": {},
     "output_type": "execute_result"
    }
   ],
   "source": [
    "df.loc[df['Depression']=='No']"
   ]
  },
  {
   "cell_type": "code",
   "execution_count": 15,
   "id": "f03b3e24",
   "metadata": {
    "execution": {
     "iopub.execute_input": "2023-12-28T16:38:53.279714Z",
     "iopub.status.busy": "2023-12-28T16:38:53.279331Z",
     "iopub.status.idle": "2023-12-28T16:38:53.299667Z",
     "shell.execute_reply": "2023-12-28T16:38:53.298237Z"
    },
    "papermill": {
     "duration": 0.035376,
     "end_time": "2023-12-28T16:38:53.301967",
     "exception": false,
     "start_time": "2023-12-28T16:38:53.266591",
     "status": "completed"
    },
    "tags": []
   },
   "outputs": [
    {
     "name": "stdout",
     "output_type": "stream",
     "text": [
      "<class 'pandas.core.frame.DataFrame'>\n",
      "RangeIndex: 101 entries, 0 to 100\n",
      "Data columns (total 10 columns):\n",
      " #   Column                Non-Null Count  Dtype  \n",
      "---  ------                --------------  -----  \n",
      " 0   Gender                101 non-null    object \n",
      " 1   Age                   100 non-null    float64\n",
      " 2   Course                101 non-null    object \n",
      " 3   Year                  101 non-null    object \n",
      " 4   CGPA                  101 non-null    object \n",
      " 5   Marital status        101 non-null    object \n",
      " 6   Depression            101 non-null    object \n",
      " 7   Anxiety               101 non-null    object \n",
      " 8   Panic Attacks         101 non-null    object \n",
      " 9   Specialist Treatment  101 non-null    object \n",
      "dtypes: float64(1), object(9)\n",
      "memory usage: 8.0+ KB\n"
     ]
    }
   ],
   "source": [
    "df.info()"
   ]
  },
  {
   "cell_type": "code",
   "execution_count": 16,
   "id": "14f95f0e",
   "metadata": {
    "execution": {
     "iopub.execute_input": "2023-12-28T16:38:53.326378Z",
     "iopub.status.busy": "2023-12-28T16:38:53.325960Z",
     "iopub.status.idle": "2023-12-28T16:38:53.334659Z",
     "shell.execute_reply": "2023-12-28T16:38:53.333612Z"
    },
    "papermill": {
     "duration": 0.023537,
     "end_time": "2023-12-28T16:38:53.336903",
     "exception": false,
     "start_time": "2023-12-28T16:38:53.313366",
     "status": "completed"
    },
    "tags": []
   },
   "outputs": [
    {
     "data": {
      "text/plain": [
       "Gender                  0\n",
       "Age                     1\n",
       "Course                  0\n",
       "Year                    0\n",
       "CGPA                    0\n",
       "Marital status          0\n",
       "Depression              0\n",
       "Anxiety                 0\n",
       "Panic Attacks           0\n",
       "Specialist Treatment    0\n",
       "dtype: int64"
      ]
     },
     "execution_count": 16,
     "metadata": {},
     "output_type": "execute_result"
    }
   ],
   "source": [
    "df.isnull().sum()"
   ]
  },
  {
   "cell_type": "code",
   "execution_count": 17,
   "id": "df621865",
   "metadata": {
    "execution": {
     "iopub.execute_input": "2023-12-28T16:38:53.361910Z",
     "iopub.status.busy": "2023-12-28T16:38:53.361501Z",
     "iopub.status.idle": "2023-12-28T16:38:53.368462Z",
     "shell.execute_reply": "2023-12-28T16:38:53.367235Z"
    },
    "papermill": {
     "duration": 0.022386,
     "end_time": "2023-12-28T16:38:53.371002",
     "exception": false,
     "start_time": "2023-12-28T16:38:53.348616",
     "status": "completed"
    },
    "tags": []
   },
   "outputs": [],
   "source": [
    "df.dropna(inplace=True)"
   ]
  },
  {
   "cell_type": "code",
   "execution_count": 18,
   "id": "ded361b5",
   "metadata": {
    "execution": {
     "iopub.execute_input": "2023-12-28T16:38:53.396308Z",
     "iopub.status.busy": "2023-12-28T16:38:53.395405Z",
     "iopub.status.idle": "2023-12-28T16:38:53.404349Z",
     "shell.execute_reply": "2023-12-28T16:38:53.403222Z"
    },
    "papermill": {
     "duration": 0.024027,
     "end_time": "2023-12-28T16:38:53.406507",
     "exception": false,
     "start_time": "2023-12-28T16:38:53.382480",
     "status": "completed"
    },
    "tags": []
   },
   "outputs": [
    {
     "data": {
      "text/plain": [
       "0"
      ]
     },
     "execution_count": 18,
     "metadata": {},
     "output_type": "execute_result"
    }
   ],
   "source": [
    "df.isnull().sum().sum()"
   ]
  },
  {
   "cell_type": "code",
   "execution_count": 19,
   "id": "343cf61a",
   "metadata": {
    "execution": {
     "iopub.execute_input": "2023-12-28T16:38:53.432277Z",
     "iopub.status.busy": "2023-12-28T16:38:53.431865Z",
     "iopub.status.idle": "2023-12-28T16:38:53.441410Z",
     "shell.execute_reply": "2023-12-28T16:38:53.440238Z"
    },
    "papermill": {
     "duration": 0.025749,
     "end_time": "2023-12-28T16:38:53.443736",
     "exception": false,
     "start_time": "2023-12-28T16:38:53.417987",
     "status": "completed"
    },
    "tags": []
   },
   "outputs": [
    {
     "data": {
      "text/plain": [
       "Gender                  0\n",
       "Age                     0\n",
       "Course                  0\n",
       "Year                    0\n",
       "CGPA                    0\n",
       "Marital status          0\n",
       "Depression              0\n",
       "Anxiety                 0\n",
       "Panic Attacks           0\n",
       "Specialist Treatment    0\n",
       "dtype: int64"
      ]
     },
     "execution_count": 19,
     "metadata": {},
     "output_type": "execute_result"
    }
   ],
   "source": [
    "df.isnull().sum()"
   ]
  },
  {
   "cell_type": "code",
   "execution_count": 20,
   "id": "74dfeae5",
   "metadata": {
    "execution": {
     "iopub.execute_input": "2023-12-28T16:38:53.469305Z",
     "iopub.status.busy": "2023-12-28T16:38:53.468902Z",
     "iopub.status.idle": "2023-12-28T16:38:53.475390Z",
     "shell.execute_reply": "2023-12-28T16:38:53.474633Z"
    },
    "papermill": {
     "duration": 0.021366,
     "end_time": "2023-12-28T16:38:53.477380",
     "exception": false,
     "start_time": "2023-12-28T16:38:53.456014",
     "status": "completed"
    },
    "tags": []
   },
   "outputs": [
    {
     "data": {
      "text/plain": [
       "(100, 10)"
      ]
     },
     "execution_count": 20,
     "metadata": {},
     "output_type": "execute_result"
    }
   ],
   "source": [
    "df.shape"
   ]
  },
  {
   "cell_type": "code",
   "execution_count": 21,
   "id": "4cfe3022",
   "metadata": {
    "execution": {
     "iopub.execute_input": "2023-12-28T16:38:53.502605Z",
     "iopub.status.busy": "2023-12-28T16:38:53.502197Z",
     "iopub.status.idle": "2023-12-28T16:38:53.515819Z",
     "shell.execute_reply": "2023-12-28T16:38:53.514131Z"
    },
    "papermill": {
     "duration": 0.029137,
     "end_time": "2023-12-28T16:38:53.518054",
     "exception": false,
     "start_time": "2023-12-28T16:38:53.488917",
     "status": "completed"
    },
    "tags": []
   },
   "outputs": [
    {
     "name": "stdout",
     "output_type": "stream",
     "text": [
      "<class 'pandas.core.frame.DataFrame'>\n",
      "Index: 100 entries, 0 to 100\n",
      "Data columns (total 10 columns):\n",
      " #   Column                Non-Null Count  Dtype  \n",
      "---  ------                --------------  -----  \n",
      " 0   Gender                100 non-null    object \n",
      " 1   Age                   100 non-null    float64\n",
      " 2   Course                100 non-null    object \n",
      " 3   Year                  100 non-null    object \n",
      " 4   CGPA                  100 non-null    object \n",
      " 5   Marital status        100 non-null    object \n",
      " 6   Depression            100 non-null    object \n",
      " 7   Anxiety               100 non-null    object \n",
      " 8   Panic Attacks         100 non-null    object \n",
      " 9   Specialist Treatment  100 non-null    object \n",
      "dtypes: float64(1), object(9)\n",
      "memory usage: 8.6+ KB\n"
     ]
    }
   ],
   "source": [
    "df.info()"
   ]
  },
  {
   "cell_type": "code",
   "execution_count": 22,
   "id": "f9da7fb9",
   "metadata": {
    "execution": {
     "iopub.execute_input": "2023-12-28T16:38:53.544933Z",
     "iopub.status.busy": "2023-12-28T16:38:53.544551Z",
     "iopub.status.idle": "2023-12-28T16:38:53.563531Z",
     "shell.execute_reply": "2023-12-28T16:38:53.562404Z"
    },
    "papermill": {
     "duration": 0.035041,
     "end_time": "2023-12-28T16:38:53.565678",
     "exception": false,
     "start_time": "2023-12-28T16:38:53.530637",
     "status": "completed"
    },
    "tags": []
   },
   "outputs": [
    {
     "data": {
      "text/html": [
       "<div>\n",
       "<style scoped>\n",
       "    .dataframe tbody tr th:only-of-type {\n",
       "        vertical-align: middle;\n",
       "    }\n",
       "\n",
       "    .dataframe tbody tr th {\n",
       "        vertical-align: top;\n",
       "    }\n",
       "\n",
       "    .dataframe thead th {\n",
       "        text-align: right;\n",
       "    }\n",
       "</style>\n",
       "<table border=\"1\" class=\"dataframe\">\n",
       "  <thead>\n",
       "    <tr style=\"text-align: right;\">\n",
       "      <th></th>\n",
       "      <th>Gender</th>\n",
       "      <th>Age</th>\n",
       "      <th>Course</th>\n",
       "      <th>Year</th>\n",
       "      <th>CGPA</th>\n",
       "      <th>Marital status</th>\n",
       "      <th>Depression</th>\n",
       "      <th>Anxiety</th>\n",
       "      <th>Panic Attacks</th>\n",
       "      <th>Specialist Treatment</th>\n",
       "    </tr>\n",
       "  </thead>\n",
       "  <tbody>\n",
       "    <tr>\n",
       "      <th>0</th>\n",
       "      <td>Female</td>\n",
       "      <td>18.0</td>\n",
       "      <td>Engineering</td>\n",
       "      <td>year 1</td>\n",
       "      <td>B</td>\n",
       "      <td>No</td>\n",
       "      <td>Yes</td>\n",
       "      <td>No</td>\n",
       "      <td>Yes</td>\n",
       "      <td>No</td>\n",
       "    </tr>\n",
       "    <tr>\n",
       "      <th>1</th>\n",
       "      <td>Male</td>\n",
       "      <td>21.0</td>\n",
       "      <td>Islamic education</td>\n",
       "      <td>year 2</td>\n",
       "      <td>B</td>\n",
       "      <td>No</td>\n",
       "      <td>No</td>\n",
       "      <td>Yes</td>\n",
       "      <td>No</td>\n",
       "      <td>No</td>\n",
       "    </tr>\n",
       "    <tr>\n",
       "      <th>2</th>\n",
       "      <td>Male</td>\n",
       "      <td>19.0</td>\n",
       "      <td>BIT</td>\n",
       "      <td>Year 1</td>\n",
       "      <td>B</td>\n",
       "      <td>No</td>\n",
       "      <td>Yes</td>\n",
       "      <td>Yes</td>\n",
       "      <td>Yes</td>\n",
       "      <td>No</td>\n",
       "    </tr>\n",
       "    <tr>\n",
       "      <th>3</th>\n",
       "      <td>Female</td>\n",
       "      <td>22.0</td>\n",
       "      <td>Laws</td>\n",
       "      <td>year 3</td>\n",
       "      <td>B</td>\n",
       "      <td>Yes</td>\n",
       "      <td>Yes</td>\n",
       "      <td>No</td>\n",
       "      <td>No</td>\n",
       "      <td>No</td>\n",
       "    </tr>\n",
       "    <tr>\n",
       "      <th>4</th>\n",
       "      <td>Male</td>\n",
       "      <td>23.0</td>\n",
       "      <td>Mathemathics</td>\n",
       "      <td>year 4</td>\n",
       "      <td>B</td>\n",
       "      <td>No</td>\n",
       "      <td>No</td>\n",
       "      <td>No</td>\n",
       "      <td>No</td>\n",
       "      <td>No</td>\n",
       "    </tr>\n",
       "  </tbody>\n",
       "</table>\n",
       "</div>"
      ],
      "text/plain": [
       "   Gender   Age             Course    Year CGPA Marital status Depression  \\\n",
       "0  Female  18.0        Engineering  year 1    B             No        Yes   \n",
       "1    Male  21.0  Islamic education  year 2    B             No         No   \n",
       "2    Male  19.0                BIT  Year 1    B             No        Yes   \n",
       "3  Female  22.0               Laws  year 3    B            Yes        Yes   \n",
       "4    Male  23.0       Mathemathics  year 4    B             No         No   \n",
       "\n",
       "  Anxiety Panic Attacks Specialist Treatment  \n",
       "0      No           Yes                   No  \n",
       "1     Yes            No                   No  \n",
       "2     Yes           Yes                   No  \n",
       "3      No            No                   No  \n",
       "4      No            No                   No  "
      ]
     },
     "execution_count": 22,
     "metadata": {},
     "output_type": "execute_result"
    }
   ],
   "source": [
    "df.head()"
   ]
  },
  {
   "cell_type": "code",
   "execution_count": 23,
   "id": "a7c2b968",
   "metadata": {
    "execution": {
     "iopub.execute_input": "2023-12-28T16:38:53.592901Z",
     "iopub.status.busy": "2023-12-28T16:38:53.591954Z",
     "iopub.status.idle": "2023-12-28T16:38:53.597733Z",
     "shell.execute_reply": "2023-12-28T16:38:53.596574Z"
    },
    "papermill": {
     "duration": 0.021494,
     "end_time": "2023-12-28T16:38:53.599826",
     "exception": false,
     "start_time": "2023-12-28T16:38:53.578332",
     "status": "completed"
    },
    "tags": []
   },
   "outputs": [],
   "source": [
    "df['Age']=df['Age'].astype(int)"
   ]
  },
  {
   "cell_type": "code",
   "execution_count": 24,
   "id": "b660395e",
   "metadata": {
    "execution": {
     "iopub.execute_input": "2023-12-28T16:38:53.625737Z",
     "iopub.status.busy": "2023-12-28T16:38:53.625295Z",
     "iopub.status.idle": "2023-12-28T16:38:53.640950Z",
     "shell.execute_reply": "2023-12-28T16:38:53.640125Z"
    },
    "papermill": {
     "duration": 0.031499,
     "end_time": "2023-12-28T16:38:53.643320",
     "exception": false,
     "start_time": "2023-12-28T16:38:53.611821",
     "status": "completed"
    },
    "tags": []
   },
   "outputs": [
    {
     "data": {
      "text/html": [
       "<div>\n",
       "<style scoped>\n",
       "    .dataframe tbody tr th:only-of-type {\n",
       "        vertical-align: middle;\n",
       "    }\n",
       "\n",
       "    .dataframe tbody tr th {\n",
       "        vertical-align: top;\n",
       "    }\n",
       "\n",
       "    .dataframe thead th {\n",
       "        text-align: right;\n",
       "    }\n",
       "</style>\n",
       "<table border=\"1\" class=\"dataframe\">\n",
       "  <thead>\n",
       "    <tr style=\"text-align: right;\">\n",
       "      <th></th>\n",
       "      <th>Gender</th>\n",
       "      <th>Age</th>\n",
       "      <th>Course</th>\n",
       "      <th>Year</th>\n",
       "      <th>CGPA</th>\n",
       "      <th>Marital status</th>\n",
       "      <th>Depression</th>\n",
       "      <th>Anxiety</th>\n",
       "      <th>Panic Attacks</th>\n",
       "      <th>Specialist Treatment</th>\n",
       "    </tr>\n",
       "  </thead>\n",
       "  <tbody>\n",
       "    <tr>\n",
       "      <th>0</th>\n",
       "      <td>Female</td>\n",
       "      <td>18</td>\n",
       "      <td>Engineering</td>\n",
       "      <td>year 1</td>\n",
       "      <td>B</td>\n",
       "      <td>No</td>\n",
       "      <td>Yes</td>\n",
       "      <td>No</td>\n",
       "      <td>Yes</td>\n",
       "      <td>No</td>\n",
       "    </tr>\n",
       "    <tr>\n",
       "      <th>1</th>\n",
       "      <td>Male</td>\n",
       "      <td>21</td>\n",
       "      <td>Islamic education</td>\n",
       "      <td>year 2</td>\n",
       "      <td>B</td>\n",
       "      <td>No</td>\n",
       "      <td>No</td>\n",
       "      <td>Yes</td>\n",
       "      <td>No</td>\n",
       "      <td>No</td>\n",
       "    </tr>\n",
       "    <tr>\n",
       "      <th>2</th>\n",
       "      <td>Male</td>\n",
       "      <td>19</td>\n",
       "      <td>BIT</td>\n",
       "      <td>Year 1</td>\n",
       "      <td>B</td>\n",
       "      <td>No</td>\n",
       "      <td>Yes</td>\n",
       "      <td>Yes</td>\n",
       "      <td>Yes</td>\n",
       "      <td>No</td>\n",
       "    </tr>\n",
       "    <tr>\n",
       "      <th>3</th>\n",
       "      <td>Female</td>\n",
       "      <td>22</td>\n",
       "      <td>Laws</td>\n",
       "      <td>year 3</td>\n",
       "      <td>B</td>\n",
       "      <td>Yes</td>\n",
       "      <td>Yes</td>\n",
       "      <td>No</td>\n",
       "      <td>No</td>\n",
       "      <td>No</td>\n",
       "    </tr>\n",
       "    <tr>\n",
       "      <th>4</th>\n",
       "      <td>Male</td>\n",
       "      <td>23</td>\n",
       "      <td>Mathemathics</td>\n",
       "      <td>year 4</td>\n",
       "      <td>B</td>\n",
       "      <td>No</td>\n",
       "      <td>No</td>\n",
       "      <td>No</td>\n",
       "      <td>No</td>\n",
       "      <td>No</td>\n",
       "    </tr>\n",
       "  </tbody>\n",
       "</table>\n",
       "</div>"
      ],
      "text/plain": [
       "   Gender  Age             Course    Year CGPA Marital status Depression  \\\n",
       "0  Female   18        Engineering  year 1    B             No        Yes   \n",
       "1    Male   21  Islamic education  year 2    B             No         No   \n",
       "2    Male   19                BIT  Year 1    B             No        Yes   \n",
       "3  Female   22               Laws  year 3    B            Yes        Yes   \n",
       "4    Male   23       Mathemathics  year 4    B             No         No   \n",
       "\n",
       "  Anxiety Panic Attacks Specialist Treatment  \n",
       "0      No           Yes                   No  \n",
       "1     Yes            No                   No  \n",
       "2     Yes           Yes                   No  \n",
       "3      No            No                   No  \n",
       "4      No            No                   No  "
      ]
     },
     "execution_count": 24,
     "metadata": {},
     "output_type": "execute_result"
    }
   ],
   "source": [
    "df.head()"
   ]
  },
  {
   "cell_type": "code",
   "execution_count": 25,
   "id": "394f99b5",
   "metadata": {
    "execution": {
     "iopub.execute_input": "2023-12-28T16:38:53.673191Z",
     "iopub.status.busy": "2023-12-28T16:38:53.672753Z",
     "iopub.status.idle": "2023-12-28T16:38:53.687598Z",
     "shell.execute_reply": "2023-12-28T16:38:53.686457Z"
    },
    "papermill": {
     "duration": 0.03396,
     "end_time": "2023-12-28T16:38:53.689806",
     "exception": false,
     "start_time": "2023-12-28T16:38:53.655846",
     "status": "completed"
    },
    "tags": []
   },
   "outputs": [
    {
     "data": {
      "text/html": [
       "<div>\n",
       "<style scoped>\n",
       "    .dataframe tbody tr th:only-of-type {\n",
       "        vertical-align: middle;\n",
       "    }\n",
       "\n",
       "    .dataframe tbody tr th {\n",
       "        vertical-align: top;\n",
       "    }\n",
       "\n",
       "    .dataframe thead th {\n",
       "        text-align: right;\n",
       "    }\n",
       "</style>\n",
       "<table border=\"1\" class=\"dataframe\">\n",
       "  <thead>\n",
       "    <tr style=\"text-align: right;\">\n",
       "      <th></th>\n",
       "      <th>Gender</th>\n",
       "      <th>Age</th>\n",
       "      <th>Course</th>\n",
       "      <th>Year</th>\n",
       "      <th>CGPA</th>\n",
       "      <th>Marital status</th>\n",
       "      <th>Depression</th>\n",
       "      <th>Anxiety</th>\n",
       "      <th>Panic Attacks</th>\n",
       "      <th>Specialist Treatment</th>\n",
       "    </tr>\n",
       "  </thead>\n",
       "  <tbody>\n",
       "    <tr>\n",
       "      <th>96</th>\n",
       "      <td>Female</td>\n",
       "      <td>21</td>\n",
       "      <td>BCS</td>\n",
       "      <td>year 1</td>\n",
       "      <td>A</td>\n",
       "      <td>No</td>\n",
       "      <td>No</td>\n",
       "      <td>Yes</td>\n",
       "      <td>No</td>\n",
       "      <td>No</td>\n",
       "    </tr>\n",
       "    <tr>\n",
       "      <th>97</th>\n",
       "      <td>Male</td>\n",
       "      <td>18</td>\n",
       "      <td>Engineering</td>\n",
       "      <td>Year 2</td>\n",
       "      <td>B</td>\n",
       "      <td>No</td>\n",
       "      <td>Yes</td>\n",
       "      <td>Yes</td>\n",
       "      <td>No</td>\n",
       "      <td>No</td>\n",
       "    </tr>\n",
       "    <tr>\n",
       "      <th>98</th>\n",
       "      <td>Female</td>\n",
       "      <td>19</td>\n",
       "      <td>Nursing</td>\n",
       "      <td>Year 3</td>\n",
       "      <td>A</td>\n",
       "      <td>Yes</td>\n",
       "      <td>Yes</td>\n",
       "      <td>No</td>\n",
       "      <td>Yes</td>\n",
       "      <td>No</td>\n",
       "    </tr>\n",
       "    <tr>\n",
       "      <th>99</th>\n",
       "      <td>Female</td>\n",
       "      <td>23</td>\n",
       "      <td>Pendidikan Islam</td>\n",
       "      <td>year 4</td>\n",
       "      <td>A</td>\n",
       "      <td>No</td>\n",
       "      <td>No</td>\n",
       "      <td>No</td>\n",
       "      <td>No</td>\n",
       "      <td>No</td>\n",
       "    </tr>\n",
       "    <tr>\n",
       "      <th>100</th>\n",
       "      <td>Male</td>\n",
       "      <td>20</td>\n",
       "      <td>Biomedical science</td>\n",
       "      <td>Year 2</td>\n",
       "      <td>B</td>\n",
       "      <td>No</td>\n",
       "      <td>No</td>\n",
       "      <td>No</td>\n",
       "      <td>No</td>\n",
       "      <td>No</td>\n",
       "    </tr>\n",
       "  </tbody>\n",
       "</table>\n",
       "</div>"
      ],
      "text/plain": [
       "     Gender  Age              Course    Year CGPA Marital status Depression  \\\n",
       "96   Female   21                 BCS  year 1    A             No         No   \n",
       "97     Male   18         Engineering  Year 2    B             No        Yes   \n",
       "98   Female   19            Nursing   Year 3    A            Yes        Yes   \n",
       "99   Female   23    Pendidikan Islam  year 4    A             No         No   \n",
       "100    Male   20  Biomedical science  Year 2    B             No         No   \n",
       "\n",
       "    Anxiety Panic Attacks Specialist Treatment  \n",
       "96      Yes            No                   No  \n",
       "97      Yes            No                   No  \n",
       "98       No           Yes                   No  \n",
       "99       No            No                   No  \n",
       "100      No            No                   No  "
      ]
     },
     "execution_count": 25,
     "metadata": {},
     "output_type": "execute_result"
    }
   ],
   "source": [
    "df.tail()"
   ]
  },
  {
   "cell_type": "code",
   "execution_count": 26,
   "id": "f3673c01",
   "metadata": {
    "execution": {
     "iopub.execute_input": "2023-12-28T16:38:53.717524Z",
     "iopub.status.busy": "2023-12-28T16:38:53.717078Z",
     "iopub.status.idle": "2023-12-28T16:38:53.723543Z",
     "shell.execute_reply": "2023-12-28T16:38:53.722234Z"
    },
    "papermill": {
     "duration": 0.023196,
     "end_time": "2023-12-28T16:38:53.725783",
     "exception": false,
     "start_time": "2023-12-28T16:38:53.702587",
     "status": "completed"
    },
    "tags": []
   },
   "outputs": [],
   "source": [
    "def number_picker(strings):\n",
    "    strings=strings[-1]\n",
    "    return strings\n",
    "df['Year']=df['Year'].apply(number_picker)\n",
    "    "
   ]
  },
  {
   "cell_type": "code",
   "execution_count": 27,
   "id": "1225c77a",
   "metadata": {
    "execution": {
     "iopub.execute_input": "2023-12-28T16:38:53.754100Z",
     "iopub.status.busy": "2023-12-28T16:38:53.753710Z",
     "iopub.status.idle": "2023-12-28T16:38:53.768984Z",
     "shell.execute_reply": "2023-12-28T16:38:53.767869Z"
    },
    "papermill": {
     "duration": 0.031876,
     "end_time": "2023-12-28T16:38:53.771279",
     "exception": false,
     "start_time": "2023-12-28T16:38:53.739403",
     "status": "completed"
    },
    "tags": []
   },
   "outputs": [
    {
     "data": {
      "text/html": [
       "<div>\n",
       "<style scoped>\n",
       "    .dataframe tbody tr th:only-of-type {\n",
       "        vertical-align: middle;\n",
       "    }\n",
       "\n",
       "    .dataframe tbody tr th {\n",
       "        vertical-align: top;\n",
       "    }\n",
       "\n",
       "    .dataframe thead th {\n",
       "        text-align: right;\n",
       "    }\n",
       "</style>\n",
       "<table border=\"1\" class=\"dataframe\">\n",
       "  <thead>\n",
       "    <tr style=\"text-align: right;\">\n",
       "      <th></th>\n",
       "      <th>Gender</th>\n",
       "      <th>Age</th>\n",
       "      <th>Course</th>\n",
       "      <th>Year</th>\n",
       "      <th>CGPA</th>\n",
       "      <th>Marital status</th>\n",
       "      <th>Depression</th>\n",
       "      <th>Anxiety</th>\n",
       "      <th>Panic Attacks</th>\n",
       "      <th>Specialist Treatment</th>\n",
       "    </tr>\n",
       "  </thead>\n",
       "  <tbody>\n",
       "    <tr>\n",
       "      <th>0</th>\n",
       "      <td>Female</td>\n",
       "      <td>18</td>\n",
       "      <td>Engineering</td>\n",
       "      <td>1</td>\n",
       "      <td>B</td>\n",
       "      <td>No</td>\n",
       "      <td>Yes</td>\n",
       "      <td>No</td>\n",
       "      <td>Yes</td>\n",
       "      <td>No</td>\n",
       "    </tr>\n",
       "    <tr>\n",
       "      <th>1</th>\n",
       "      <td>Male</td>\n",
       "      <td>21</td>\n",
       "      <td>Islamic education</td>\n",
       "      <td>2</td>\n",
       "      <td>B</td>\n",
       "      <td>No</td>\n",
       "      <td>No</td>\n",
       "      <td>Yes</td>\n",
       "      <td>No</td>\n",
       "      <td>No</td>\n",
       "    </tr>\n",
       "    <tr>\n",
       "      <th>2</th>\n",
       "      <td>Male</td>\n",
       "      <td>19</td>\n",
       "      <td>BIT</td>\n",
       "      <td>1</td>\n",
       "      <td>B</td>\n",
       "      <td>No</td>\n",
       "      <td>Yes</td>\n",
       "      <td>Yes</td>\n",
       "      <td>Yes</td>\n",
       "      <td>No</td>\n",
       "    </tr>\n",
       "    <tr>\n",
       "      <th>3</th>\n",
       "      <td>Female</td>\n",
       "      <td>22</td>\n",
       "      <td>Laws</td>\n",
       "      <td>3</td>\n",
       "      <td>B</td>\n",
       "      <td>Yes</td>\n",
       "      <td>Yes</td>\n",
       "      <td>No</td>\n",
       "      <td>No</td>\n",
       "      <td>No</td>\n",
       "    </tr>\n",
       "    <tr>\n",
       "      <th>4</th>\n",
       "      <td>Male</td>\n",
       "      <td>23</td>\n",
       "      <td>Mathemathics</td>\n",
       "      <td>4</td>\n",
       "      <td>B</td>\n",
       "      <td>No</td>\n",
       "      <td>No</td>\n",
       "      <td>No</td>\n",
       "      <td>No</td>\n",
       "      <td>No</td>\n",
       "    </tr>\n",
       "  </tbody>\n",
       "</table>\n",
       "</div>"
      ],
      "text/plain": [
       "   Gender  Age             Course Year CGPA Marital status Depression Anxiety  \\\n",
       "0  Female   18        Engineering    1    B             No        Yes      No   \n",
       "1    Male   21  Islamic education    2    B             No         No     Yes   \n",
       "2    Male   19                BIT    1    B             No        Yes     Yes   \n",
       "3  Female   22               Laws    3    B            Yes        Yes      No   \n",
       "4    Male   23       Mathemathics    4    B             No         No      No   \n",
       "\n",
       "  Panic Attacks Specialist Treatment  \n",
       "0           Yes                   No  \n",
       "1            No                   No  \n",
       "2           Yes                   No  \n",
       "3            No                   No  \n",
       "4            No                   No  "
      ]
     },
     "execution_count": 27,
     "metadata": {},
     "output_type": "execute_result"
    }
   ],
   "source": [
    "df.head()"
   ]
  },
  {
   "cell_type": "code",
   "execution_count": 28,
   "id": "dc68f353",
   "metadata": {
    "execution": {
     "iopub.execute_input": "2023-12-28T16:38:53.798695Z",
     "iopub.status.busy": "2023-12-28T16:38:53.798039Z",
     "iopub.status.idle": "2023-12-28T16:38:53.812509Z",
     "shell.execute_reply": "2023-12-28T16:38:53.811429Z"
    },
    "papermill": {
     "duration": 0.030715,
     "end_time": "2023-12-28T16:38:53.814686",
     "exception": false,
     "start_time": "2023-12-28T16:38:53.783971",
     "status": "completed"
    },
    "tags": []
   },
   "outputs": [
    {
     "data": {
      "text/html": [
       "<div>\n",
       "<style scoped>\n",
       "    .dataframe tbody tr th:only-of-type {\n",
       "        vertical-align: middle;\n",
       "    }\n",
       "\n",
       "    .dataframe tbody tr th {\n",
       "        vertical-align: top;\n",
       "    }\n",
       "\n",
       "    .dataframe thead th {\n",
       "        text-align: right;\n",
       "    }\n",
       "</style>\n",
       "<table border=\"1\" class=\"dataframe\">\n",
       "  <thead>\n",
       "    <tr style=\"text-align: right;\">\n",
       "      <th></th>\n",
       "      <th>Gender</th>\n",
       "      <th>Age</th>\n",
       "      <th>Course</th>\n",
       "      <th>Year</th>\n",
       "      <th>CGPA</th>\n",
       "      <th>Marital status</th>\n",
       "      <th>Depression</th>\n",
       "      <th>Anxiety</th>\n",
       "      <th>Panic Attacks</th>\n",
       "      <th>Specialist Treatment</th>\n",
       "    </tr>\n",
       "  </thead>\n",
       "  <tbody>\n",
       "    <tr>\n",
       "      <th>96</th>\n",
       "      <td>Female</td>\n",
       "      <td>21</td>\n",
       "      <td>BCS</td>\n",
       "      <td>1</td>\n",
       "      <td>A</td>\n",
       "      <td>No</td>\n",
       "      <td>No</td>\n",
       "      <td>Yes</td>\n",
       "      <td>No</td>\n",
       "      <td>No</td>\n",
       "    </tr>\n",
       "    <tr>\n",
       "      <th>97</th>\n",
       "      <td>Male</td>\n",
       "      <td>18</td>\n",
       "      <td>Engineering</td>\n",
       "      <td>2</td>\n",
       "      <td>B</td>\n",
       "      <td>No</td>\n",
       "      <td>Yes</td>\n",
       "      <td>Yes</td>\n",
       "      <td>No</td>\n",
       "      <td>No</td>\n",
       "    </tr>\n",
       "    <tr>\n",
       "      <th>98</th>\n",
       "      <td>Female</td>\n",
       "      <td>19</td>\n",
       "      <td>Nursing</td>\n",
       "      <td>3</td>\n",
       "      <td>A</td>\n",
       "      <td>Yes</td>\n",
       "      <td>Yes</td>\n",
       "      <td>No</td>\n",
       "      <td>Yes</td>\n",
       "      <td>No</td>\n",
       "    </tr>\n",
       "    <tr>\n",
       "      <th>99</th>\n",
       "      <td>Female</td>\n",
       "      <td>23</td>\n",
       "      <td>Pendidikan Islam</td>\n",
       "      <td>4</td>\n",
       "      <td>A</td>\n",
       "      <td>No</td>\n",
       "      <td>No</td>\n",
       "      <td>No</td>\n",
       "      <td>No</td>\n",
       "      <td>No</td>\n",
       "    </tr>\n",
       "    <tr>\n",
       "      <th>100</th>\n",
       "      <td>Male</td>\n",
       "      <td>20</td>\n",
       "      <td>Biomedical science</td>\n",
       "      <td>2</td>\n",
       "      <td>B</td>\n",
       "      <td>No</td>\n",
       "      <td>No</td>\n",
       "      <td>No</td>\n",
       "      <td>No</td>\n",
       "      <td>No</td>\n",
       "    </tr>\n",
       "  </tbody>\n",
       "</table>\n",
       "</div>"
      ],
      "text/plain": [
       "     Gender  Age              Course Year CGPA Marital status Depression  \\\n",
       "96   Female   21                 BCS    1    A             No         No   \n",
       "97     Male   18         Engineering    2    B             No        Yes   \n",
       "98   Female   19            Nursing     3    A            Yes        Yes   \n",
       "99   Female   23    Pendidikan Islam    4    A             No         No   \n",
       "100    Male   20  Biomedical science    2    B             No         No   \n",
       "\n",
       "    Anxiety Panic Attacks Specialist Treatment  \n",
       "96      Yes            No                   No  \n",
       "97      Yes            No                   No  \n",
       "98       No           Yes                   No  \n",
       "99       No            No                   No  \n",
       "100      No            No                   No  "
      ]
     },
     "execution_count": 28,
     "metadata": {},
     "output_type": "execute_result"
    }
   ],
   "source": [
    "df.tail()"
   ]
  },
  {
   "cell_type": "code",
   "execution_count": 29,
   "id": "119e1dfe",
   "metadata": {
    "execution": {
     "iopub.execute_input": "2023-12-28T16:38:53.843028Z",
     "iopub.status.busy": "2023-12-28T16:38:53.842341Z",
     "iopub.status.idle": "2023-12-28T16:38:53.855900Z",
     "shell.execute_reply": "2023-12-28T16:38:53.855159Z"
    },
    "papermill": {
     "duration": 0.030278,
     "end_time": "2023-12-28T16:38:53.858195",
     "exception": false,
     "start_time": "2023-12-28T16:38:53.827917",
     "status": "completed"
    },
    "tags": []
   },
   "outputs": [
    {
     "data": {
      "text/html": [
       "<div>\n",
       "<style scoped>\n",
       "    .dataframe tbody tr th:only-of-type {\n",
       "        vertical-align: middle;\n",
       "    }\n",
       "\n",
       "    .dataframe tbody tr th {\n",
       "        vertical-align: top;\n",
       "    }\n",
       "\n",
       "    .dataframe thead th {\n",
       "        text-align: right;\n",
       "    }\n",
       "</style>\n",
       "<table border=\"1\" class=\"dataframe\">\n",
       "  <thead>\n",
       "    <tr style=\"text-align: right;\">\n",
       "      <th></th>\n",
       "      <th>Gender</th>\n",
       "      <th>Age</th>\n",
       "      <th>Course</th>\n",
       "      <th>Year</th>\n",
       "      <th>CGPA</th>\n",
       "      <th>Marital status</th>\n",
       "      <th>Depression</th>\n",
       "      <th>Anxiety</th>\n",
       "      <th>Panic Attacks</th>\n",
       "      <th>Specialist Treatment</th>\n",
       "    </tr>\n",
       "  </thead>\n",
       "  <tbody>\n",
       "    <tr>\n",
       "      <th>0</th>\n",
       "      <td>Female</td>\n",
       "      <td>18</td>\n",
       "      <td>Engineering</td>\n",
       "      <td>1</td>\n",
       "      <td>B</td>\n",
       "      <td>No</td>\n",
       "      <td>Yes</td>\n",
       "      <td>No</td>\n",
       "      <td>Yes</td>\n",
       "      <td>No</td>\n",
       "    </tr>\n",
       "    <tr>\n",
       "      <th>1</th>\n",
       "      <td>Male</td>\n",
       "      <td>21</td>\n",
       "      <td>Islamic education</td>\n",
       "      <td>2</td>\n",
       "      <td>B</td>\n",
       "      <td>No</td>\n",
       "      <td>No</td>\n",
       "      <td>Yes</td>\n",
       "      <td>No</td>\n",
       "      <td>No</td>\n",
       "    </tr>\n",
       "    <tr>\n",
       "      <th>2</th>\n",
       "      <td>Male</td>\n",
       "      <td>19</td>\n",
       "      <td>BIT</td>\n",
       "      <td>1</td>\n",
       "      <td>B</td>\n",
       "      <td>No</td>\n",
       "      <td>Yes</td>\n",
       "      <td>Yes</td>\n",
       "      <td>Yes</td>\n",
       "      <td>No</td>\n",
       "    </tr>\n",
       "    <tr>\n",
       "      <th>3</th>\n",
       "      <td>Female</td>\n",
       "      <td>22</td>\n",
       "      <td>Laws</td>\n",
       "      <td>3</td>\n",
       "      <td>B</td>\n",
       "      <td>Yes</td>\n",
       "      <td>Yes</td>\n",
       "      <td>No</td>\n",
       "      <td>No</td>\n",
       "      <td>No</td>\n",
       "    </tr>\n",
       "    <tr>\n",
       "      <th>4</th>\n",
       "      <td>Male</td>\n",
       "      <td>23</td>\n",
       "      <td>Mathemathics</td>\n",
       "      <td>4</td>\n",
       "      <td>B</td>\n",
       "      <td>No</td>\n",
       "      <td>No</td>\n",
       "      <td>No</td>\n",
       "      <td>No</td>\n",
       "      <td>No</td>\n",
       "    </tr>\n",
       "  </tbody>\n",
       "</table>\n",
       "</div>"
      ],
      "text/plain": [
       "   Gender  Age             Course Year CGPA Marital status Depression Anxiety  \\\n",
       "0  Female   18        Engineering    1    B             No        Yes      No   \n",
       "1    Male   21  Islamic education    2    B             No         No     Yes   \n",
       "2    Male   19                BIT    1    B             No        Yes     Yes   \n",
       "3  Female   22               Laws    3    B            Yes        Yes      No   \n",
       "4    Male   23       Mathemathics    4    B             No         No      No   \n",
       "\n",
       "  Panic Attacks Specialist Treatment  \n",
       "0           Yes                   No  \n",
       "1            No                   No  \n",
       "2           Yes                   No  \n",
       "3            No                   No  \n",
       "4            No                   No  "
      ]
     },
     "execution_count": 29,
     "metadata": {},
     "output_type": "execute_result"
    }
   ],
   "source": [
    "df.head()"
   ]
  },
  {
   "cell_type": "code",
   "execution_count": 30,
   "id": "4c3d9788",
   "metadata": {
    "execution": {
     "iopub.execute_input": "2023-12-28T16:38:53.888641Z",
     "iopub.status.busy": "2023-12-28T16:38:53.887423Z",
     "iopub.status.idle": "2023-12-28T16:38:53.895582Z",
     "shell.execute_reply": "2023-12-28T16:38:53.894678Z"
    },
    "papermill": {
     "duration": 0.025339,
     "end_time": "2023-12-28T16:38:53.897819",
     "exception": false,
     "start_time": "2023-12-28T16:38:53.872480",
     "status": "completed"
    },
    "tags": []
   },
   "outputs": [],
   "source": [
    "target=df['Depression']\n",
    "input = df.drop('Depression',axis='columns')"
   ]
  },
  {
   "cell_type": "code",
   "execution_count": 31,
   "id": "72c8c346",
   "metadata": {
    "execution": {
     "iopub.execute_input": "2023-12-28T16:38:53.926073Z",
     "iopub.status.busy": "2023-12-28T16:38:53.925473Z",
     "iopub.status.idle": "2023-12-28T16:38:53.938838Z",
     "shell.execute_reply": "2023-12-28T16:38:53.937787Z"
    },
    "papermill": {
     "duration": 0.030034,
     "end_time": "2023-12-28T16:38:53.940974",
     "exception": false,
     "start_time": "2023-12-28T16:38:53.910940",
     "status": "completed"
    },
    "tags": []
   },
   "outputs": [
    {
     "data": {
      "text/html": [
       "<div>\n",
       "<style scoped>\n",
       "    .dataframe tbody tr th:only-of-type {\n",
       "        vertical-align: middle;\n",
       "    }\n",
       "\n",
       "    .dataframe tbody tr th {\n",
       "        vertical-align: top;\n",
       "    }\n",
       "\n",
       "    .dataframe thead th {\n",
       "        text-align: right;\n",
       "    }\n",
       "</style>\n",
       "<table border=\"1\" class=\"dataframe\">\n",
       "  <thead>\n",
       "    <tr style=\"text-align: right;\">\n",
       "      <th></th>\n",
       "      <th>Gender</th>\n",
       "      <th>Age</th>\n",
       "      <th>Course</th>\n",
       "      <th>Year</th>\n",
       "      <th>CGPA</th>\n",
       "      <th>Marital status</th>\n",
       "      <th>Anxiety</th>\n",
       "      <th>Panic Attacks</th>\n",
       "      <th>Specialist Treatment</th>\n",
       "    </tr>\n",
       "  </thead>\n",
       "  <tbody>\n",
       "    <tr>\n",
       "      <th>0</th>\n",
       "      <td>Female</td>\n",
       "      <td>18</td>\n",
       "      <td>Engineering</td>\n",
       "      <td>1</td>\n",
       "      <td>B</td>\n",
       "      <td>No</td>\n",
       "      <td>No</td>\n",
       "      <td>Yes</td>\n",
       "      <td>No</td>\n",
       "    </tr>\n",
       "    <tr>\n",
       "      <th>1</th>\n",
       "      <td>Male</td>\n",
       "      <td>21</td>\n",
       "      <td>Islamic education</td>\n",
       "      <td>2</td>\n",
       "      <td>B</td>\n",
       "      <td>No</td>\n",
       "      <td>Yes</td>\n",
       "      <td>No</td>\n",
       "      <td>No</td>\n",
       "    </tr>\n",
       "    <tr>\n",
       "      <th>2</th>\n",
       "      <td>Male</td>\n",
       "      <td>19</td>\n",
       "      <td>BIT</td>\n",
       "      <td>1</td>\n",
       "      <td>B</td>\n",
       "      <td>No</td>\n",
       "      <td>Yes</td>\n",
       "      <td>Yes</td>\n",
       "      <td>No</td>\n",
       "    </tr>\n",
       "    <tr>\n",
       "      <th>3</th>\n",
       "      <td>Female</td>\n",
       "      <td>22</td>\n",
       "      <td>Laws</td>\n",
       "      <td>3</td>\n",
       "      <td>B</td>\n",
       "      <td>Yes</td>\n",
       "      <td>No</td>\n",
       "      <td>No</td>\n",
       "      <td>No</td>\n",
       "    </tr>\n",
       "    <tr>\n",
       "      <th>4</th>\n",
       "      <td>Male</td>\n",
       "      <td>23</td>\n",
       "      <td>Mathemathics</td>\n",
       "      <td>4</td>\n",
       "      <td>B</td>\n",
       "      <td>No</td>\n",
       "      <td>No</td>\n",
       "      <td>No</td>\n",
       "      <td>No</td>\n",
       "    </tr>\n",
       "  </tbody>\n",
       "</table>\n",
       "</div>"
      ],
      "text/plain": [
       "   Gender  Age             Course Year CGPA Marital status Anxiety  \\\n",
       "0  Female   18        Engineering    1    B             No      No   \n",
       "1    Male   21  Islamic education    2    B             No     Yes   \n",
       "2    Male   19                BIT    1    B             No     Yes   \n",
       "3  Female   22               Laws    3    B            Yes      No   \n",
       "4    Male   23       Mathemathics    4    B             No      No   \n",
       "\n",
       "  Panic Attacks Specialist Treatment  \n",
       "0           Yes                   No  \n",
       "1            No                   No  \n",
       "2           Yes                   No  \n",
       "3            No                   No  \n",
       "4            No                   No  "
      ]
     },
     "execution_count": 31,
     "metadata": {},
     "output_type": "execute_result"
    }
   ],
   "source": [
    "input.head()"
   ]
  },
  {
   "cell_type": "code",
   "execution_count": 32,
   "id": "f0f14398",
   "metadata": {
    "execution": {
     "iopub.execute_input": "2023-12-28T16:38:53.971010Z",
     "iopub.status.busy": "2023-12-28T16:38:53.969922Z",
     "iopub.status.idle": "2023-12-28T16:38:55.223483Z",
     "shell.execute_reply": "2023-12-28T16:38:55.222051Z"
    },
    "papermill": {
     "duration": 1.271649,
     "end_time": "2023-12-28T16:38:55.226227",
     "exception": false,
     "start_time": "2023-12-28T16:38:53.954578",
     "status": "completed"
    },
    "tags": []
   },
   "outputs": [],
   "source": [
    "from sklearn.preprocessing import LabelEncoder\n",
    "le_gender=LabelEncoder()\n",
    "le_course=LabelEncoder()\n",
    "le_cgpa = LabelEncoder()\n"
   ]
  },
  {
   "cell_type": "code",
   "execution_count": 33,
   "id": "55fbe051",
   "metadata": {
    "execution": {
     "iopub.execute_input": "2023-12-28T16:38:55.255109Z",
     "iopub.status.busy": "2023-12-28T16:38:55.254705Z",
     "iopub.status.idle": "2023-12-28T16:38:55.274336Z",
     "shell.execute_reply": "2023-12-28T16:38:55.273155Z"
    },
    "papermill": {
     "duration": 0.036538,
     "end_time": "2023-12-28T16:38:55.276590",
     "exception": false,
     "start_time": "2023-12-28T16:38:55.240052",
     "status": "completed"
    },
    "tags": []
   },
   "outputs": [
    {
     "data": {
      "text/html": [
       "<div>\n",
       "<style scoped>\n",
       "    .dataframe tbody tr th:only-of-type {\n",
       "        vertical-align: middle;\n",
       "    }\n",
       "\n",
       "    .dataframe tbody tr th {\n",
       "        vertical-align: top;\n",
       "    }\n",
       "\n",
       "    .dataframe thead th {\n",
       "        text-align: right;\n",
       "    }\n",
       "</style>\n",
       "<table border=\"1\" class=\"dataframe\">\n",
       "  <thead>\n",
       "    <tr style=\"text-align: right;\">\n",
       "      <th></th>\n",
       "      <th>Gender</th>\n",
       "      <th>Age</th>\n",
       "      <th>Course</th>\n",
       "      <th>Year</th>\n",
       "      <th>CGPA</th>\n",
       "      <th>Marital status</th>\n",
       "      <th>Anxiety</th>\n",
       "      <th>Panic Attacks</th>\n",
       "      <th>Specialist Treatment</th>\n",
       "      <th>Gender_n</th>\n",
       "      <th>Course_n</th>\n",
       "      <th>CGPA_ n</th>\n",
       "    </tr>\n",
       "  </thead>\n",
       "  <tbody>\n",
       "    <tr>\n",
       "      <th>0</th>\n",
       "      <td>Female</td>\n",
       "      <td>18</td>\n",
       "      <td>Engineering</td>\n",
       "      <td>1</td>\n",
       "      <td>B</td>\n",
       "      <td>No</td>\n",
       "      <td>No</td>\n",
       "      <td>Yes</td>\n",
       "      <td>No</td>\n",
       "      <td>0</td>\n",
       "      <td>17</td>\n",
       "      <td>1</td>\n",
       "    </tr>\n",
       "    <tr>\n",
       "      <th>1</th>\n",
       "      <td>Male</td>\n",
       "      <td>21</td>\n",
       "      <td>Islamic education</td>\n",
       "      <td>2</td>\n",
       "      <td>B</td>\n",
       "      <td>No</td>\n",
       "      <td>Yes</td>\n",
       "      <td>No</td>\n",
       "      <td>No</td>\n",
       "      <td>1</td>\n",
       "      <td>25</td>\n",
       "      <td>1</td>\n",
       "    </tr>\n",
       "    <tr>\n",
       "      <th>2</th>\n",
       "      <td>Male</td>\n",
       "      <td>19</td>\n",
       "      <td>BIT</td>\n",
       "      <td>1</td>\n",
       "      <td>B</td>\n",
       "      <td>No</td>\n",
       "      <td>Yes</td>\n",
       "      <td>Yes</td>\n",
       "      <td>No</td>\n",
       "      <td>1</td>\n",
       "      <td>4</td>\n",
       "      <td>1</td>\n",
       "    </tr>\n",
       "    <tr>\n",
       "      <th>3</th>\n",
       "      <td>Female</td>\n",
       "      <td>22</td>\n",
       "      <td>Laws</td>\n",
       "      <td>3</td>\n",
       "      <td>B</td>\n",
       "      <td>Yes</td>\n",
       "      <td>No</td>\n",
       "      <td>No</td>\n",
       "      <td>No</td>\n",
       "      <td>0</td>\n",
       "      <td>33</td>\n",
       "      <td>1</td>\n",
       "    </tr>\n",
       "    <tr>\n",
       "      <th>4</th>\n",
       "      <td>Male</td>\n",
       "      <td>23</td>\n",
       "      <td>Mathemathics</td>\n",
       "      <td>4</td>\n",
       "      <td>B</td>\n",
       "      <td>No</td>\n",
       "      <td>No</td>\n",
       "      <td>No</td>\n",
       "      <td>No</td>\n",
       "      <td>1</td>\n",
       "      <td>37</td>\n",
       "      <td>1</td>\n",
       "    </tr>\n",
       "  </tbody>\n",
       "</table>\n",
       "</div>"
      ],
      "text/plain": [
       "   Gender  Age             Course Year CGPA Marital status Anxiety  \\\n",
       "0  Female   18        Engineering    1    B             No      No   \n",
       "1    Male   21  Islamic education    2    B             No     Yes   \n",
       "2    Male   19                BIT    1    B             No     Yes   \n",
       "3  Female   22               Laws    3    B            Yes      No   \n",
       "4    Male   23       Mathemathics    4    B             No      No   \n",
       "\n",
       "  Panic Attacks Specialist Treatment  Gender_n  Course_n  CGPA_ n  \n",
       "0           Yes                   No         0        17        1  \n",
       "1            No                   No         1        25        1  \n",
       "2           Yes                   No         1         4        1  \n",
       "3            No                   No         0        33        1  \n",
       "4            No                   No         1        37        1  "
      ]
     },
     "execution_count": 33,
     "metadata": {},
     "output_type": "execute_result"
    }
   ],
   "source": [
    "input['Gender_n']=le_gender.fit_transform(input['Gender'])\n",
    "input['Course_n']=le_course.fit_transform(input['Course'])\n",
    "input['CGPA_ n']=le_cgpa.fit_transform(input['CGPA'])\n",
    "input.head()"
   ]
  },
  {
   "cell_type": "code",
   "execution_count": 34,
   "id": "705f6165",
   "metadata": {
    "execution": {
     "iopub.execute_input": "2023-12-28T16:38:55.307133Z",
     "iopub.status.busy": "2023-12-28T16:38:55.306715Z",
     "iopub.status.idle": "2023-12-28T16:38:55.321760Z",
     "shell.execute_reply": "2023-12-28T16:38:55.320449Z"
    },
    "papermill": {
     "duration": 0.033815,
     "end_time": "2023-12-28T16:38:55.324494",
     "exception": false,
     "start_time": "2023-12-28T16:38:55.290679",
     "status": "completed"
    },
    "tags": []
   },
   "outputs": [
    {
     "data": {
      "text/html": [
       "<div>\n",
       "<style scoped>\n",
       "    .dataframe tbody tr th:only-of-type {\n",
       "        vertical-align: middle;\n",
       "    }\n",
       "\n",
       "    .dataframe tbody tr th {\n",
       "        vertical-align: top;\n",
       "    }\n",
       "\n",
       "    .dataframe thead th {\n",
       "        text-align: right;\n",
       "    }\n",
       "</style>\n",
       "<table border=\"1\" class=\"dataframe\">\n",
       "  <thead>\n",
       "    <tr style=\"text-align: right;\">\n",
       "      <th></th>\n",
       "      <th>Age</th>\n",
       "      <th>Year</th>\n",
       "      <th>Marital status</th>\n",
       "      <th>Anxiety</th>\n",
       "      <th>Panic Attacks</th>\n",
       "      <th>Specialist Treatment</th>\n",
       "      <th>Gender_n</th>\n",
       "      <th>Course_n</th>\n",
       "      <th>CGPA_ n</th>\n",
       "    </tr>\n",
       "  </thead>\n",
       "  <tbody>\n",
       "    <tr>\n",
       "      <th>0</th>\n",
       "      <td>18</td>\n",
       "      <td>1</td>\n",
       "      <td>No</td>\n",
       "      <td>No</td>\n",
       "      <td>Yes</td>\n",
       "      <td>No</td>\n",
       "      <td>0</td>\n",
       "      <td>17</td>\n",
       "      <td>1</td>\n",
       "    </tr>\n",
       "    <tr>\n",
       "      <th>1</th>\n",
       "      <td>21</td>\n",
       "      <td>2</td>\n",
       "      <td>No</td>\n",
       "      <td>Yes</td>\n",
       "      <td>No</td>\n",
       "      <td>No</td>\n",
       "      <td>1</td>\n",
       "      <td>25</td>\n",
       "      <td>1</td>\n",
       "    </tr>\n",
       "    <tr>\n",
       "      <th>2</th>\n",
       "      <td>19</td>\n",
       "      <td>1</td>\n",
       "      <td>No</td>\n",
       "      <td>Yes</td>\n",
       "      <td>Yes</td>\n",
       "      <td>No</td>\n",
       "      <td>1</td>\n",
       "      <td>4</td>\n",
       "      <td>1</td>\n",
       "    </tr>\n",
       "    <tr>\n",
       "      <th>3</th>\n",
       "      <td>22</td>\n",
       "      <td>3</td>\n",
       "      <td>Yes</td>\n",
       "      <td>No</td>\n",
       "      <td>No</td>\n",
       "      <td>No</td>\n",
       "      <td>0</td>\n",
       "      <td>33</td>\n",
       "      <td>1</td>\n",
       "    </tr>\n",
       "    <tr>\n",
       "      <th>4</th>\n",
       "      <td>23</td>\n",
       "      <td>4</td>\n",
       "      <td>No</td>\n",
       "      <td>No</td>\n",
       "      <td>No</td>\n",
       "      <td>No</td>\n",
       "      <td>1</td>\n",
       "      <td>37</td>\n",
       "      <td>1</td>\n",
       "    </tr>\n",
       "  </tbody>\n",
       "</table>\n",
       "</div>"
      ],
      "text/plain": [
       "   Age Year Marital status Anxiety Panic Attacks Specialist Treatment  \\\n",
       "0   18    1             No      No           Yes                   No   \n",
       "1   21    2             No     Yes            No                   No   \n",
       "2   19    1             No     Yes           Yes                   No   \n",
       "3   22    3            Yes      No            No                   No   \n",
       "4   23    4             No      No            No                   No   \n",
       "\n",
       "   Gender_n  Course_n  CGPA_ n  \n",
       "0         0        17        1  \n",
       "1         1        25        1  \n",
       "2         1         4        1  \n",
       "3         0        33        1  \n",
       "4         1        37        1  "
      ]
     },
     "execution_count": 34,
     "metadata": {},
     "output_type": "execute_result"
    }
   ],
   "source": [
    "input=input.drop(['Gender','Course','CGPA'],axis='columns')\n",
    "input.head()"
   ]
  },
  {
   "cell_type": "code",
   "execution_count": 35,
   "id": "ed6b8e41",
   "metadata": {
    "execution": {
     "iopub.execute_input": "2023-12-28T16:38:55.356476Z",
     "iopub.status.busy": "2023-12-28T16:38:55.355988Z",
     "iopub.status.idle": "2023-12-28T16:38:55.366097Z",
     "shell.execute_reply": "2023-12-28T16:38:55.365019Z"
    },
    "papermill": {
     "duration": 0.028299,
     "end_time": "2023-12-28T16:38:55.368316",
     "exception": false,
     "start_time": "2023-12-28T16:38:55.340017",
     "status": "completed"
    },
    "tags": []
   },
   "outputs": [],
   "source": [
    "def str_to_int(str):\n",
    "    if(str=='No'):\n",
    "        str=0\n",
    "        return str\n",
    "    else:\n",
    "        str=1\n",
    "        return str\n",
    "input['Marital status']=input['Marital status'].apply(str_to_int)\n",
    "input['Anxiety']=input['Anxiety'].apply(str_to_int) \n",
    "input['Panic Attacks']=input['Panic Attacks'].apply(str_to_int) \n",
    "input['Specialist Treatment']=input['Specialist Treatment'].apply(str_to_int) "
   ]
  },
  {
   "cell_type": "code",
   "execution_count": 36,
   "id": "fcd41ec1",
   "metadata": {
    "execution": {
     "iopub.execute_input": "2023-12-28T16:38:55.398885Z",
     "iopub.status.busy": "2023-12-28T16:38:55.398163Z",
     "iopub.status.idle": "2023-12-28T16:38:55.410464Z",
     "shell.execute_reply": "2023-12-28T16:38:55.409450Z"
    },
    "papermill": {
     "duration": 0.03063,
     "end_time": "2023-12-28T16:38:55.412891",
     "exception": false,
     "start_time": "2023-12-28T16:38:55.382261",
     "status": "completed"
    },
    "tags": []
   },
   "outputs": [
    {
     "data": {
      "text/html": [
       "<div>\n",
       "<style scoped>\n",
       "    .dataframe tbody tr th:only-of-type {\n",
       "        vertical-align: middle;\n",
       "    }\n",
       "\n",
       "    .dataframe tbody tr th {\n",
       "        vertical-align: top;\n",
       "    }\n",
       "\n",
       "    .dataframe thead th {\n",
       "        text-align: right;\n",
       "    }\n",
       "</style>\n",
       "<table border=\"1\" class=\"dataframe\">\n",
       "  <thead>\n",
       "    <tr style=\"text-align: right;\">\n",
       "      <th></th>\n",
       "      <th>Age</th>\n",
       "      <th>Year</th>\n",
       "      <th>Marital status</th>\n",
       "      <th>Anxiety</th>\n",
       "      <th>Panic Attacks</th>\n",
       "      <th>Specialist Treatment</th>\n",
       "      <th>Gender_n</th>\n",
       "      <th>Course_n</th>\n",
       "      <th>CGPA_ n</th>\n",
       "    </tr>\n",
       "  </thead>\n",
       "  <tbody>\n",
       "    <tr>\n",
       "      <th>0</th>\n",
       "      <td>18</td>\n",
       "      <td>1</td>\n",
       "      <td>0</td>\n",
       "      <td>0</td>\n",
       "      <td>1</td>\n",
       "      <td>0</td>\n",
       "      <td>0</td>\n",
       "      <td>17</td>\n",
       "      <td>1</td>\n",
       "    </tr>\n",
       "    <tr>\n",
       "      <th>1</th>\n",
       "      <td>21</td>\n",
       "      <td>2</td>\n",
       "      <td>0</td>\n",
       "      <td>1</td>\n",
       "      <td>0</td>\n",
       "      <td>0</td>\n",
       "      <td>1</td>\n",
       "      <td>25</td>\n",
       "      <td>1</td>\n",
       "    </tr>\n",
       "    <tr>\n",
       "      <th>2</th>\n",
       "      <td>19</td>\n",
       "      <td>1</td>\n",
       "      <td>0</td>\n",
       "      <td>1</td>\n",
       "      <td>1</td>\n",
       "      <td>0</td>\n",
       "      <td>1</td>\n",
       "      <td>4</td>\n",
       "      <td>1</td>\n",
       "    </tr>\n",
       "    <tr>\n",
       "      <th>3</th>\n",
       "      <td>22</td>\n",
       "      <td>3</td>\n",
       "      <td>1</td>\n",
       "      <td>0</td>\n",
       "      <td>0</td>\n",
       "      <td>0</td>\n",
       "      <td>0</td>\n",
       "      <td>33</td>\n",
       "      <td>1</td>\n",
       "    </tr>\n",
       "    <tr>\n",
       "      <th>4</th>\n",
       "      <td>23</td>\n",
       "      <td>4</td>\n",
       "      <td>0</td>\n",
       "      <td>0</td>\n",
       "      <td>0</td>\n",
       "      <td>0</td>\n",
       "      <td>1</td>\n",
       "      <td>37</td>\n",
       "      <td>1</td>\n",
       "    </tr>\n",
       "  </tbody>\n",
       "</table>\n",
       "</div>"
      ],
      "text/plain": [
       "   Age Year  Marital status  Anxiety  Panic Attacks  Specialist Treatment  \\\n",
       "0   18    1               0        0              1                     0   \n",
       "1   21    2               0        1              0                     0   \n",
       "2   19    1               0        1              1                     0   \n",
       "3   22    3               1        0              0                     0   \n",
       "4   23    4               0        0              0                     0   \n",
       "\n",
       "   Gender_n  Course_n  CGPA_ n  \n",
       "0         0        17        1  \n",
       "1         1        25        1  \n",
       "2         1         4        1  \n",
       "3         0        33        1  \n",
       "4         1        37        1  "
      ]
     },
     "execution_count": 36,
     "metadata": {},
     "output_type": "execute_result"
    }
   ],
   "source": [
    "input.head()"
   ]
  },
  {
   "cell_type": "code",
   "execution_count": 37,
   "id": "61eb5677",
   "metadata": {
    "execution": {
     "iopub.execute_input": "2023-12-28T16:38:55.444944Z",
     "iopub.status.busy": "2023-12-28T16:38:55.444519Z",
     "iopub.status.idle": "2023-12-28T16:38:55.456742Z",
     "shell.execute_reply": "2023-12-28T16:38:55.455873Z"
    },
    "papermill": {
     "duration": 0.030614,
     "end_time": "2023-12-28T16:38:55.458682",
     "exception": false,
     "start_time": "2023-12-28T16:38:55.428068",
     "status": "completed"
    },
    "tags": []
   },
   "outputs": [
    {
     "data": {
      "text/html": [
       "<div>\n",
       "<style scoped>\n",
       "    .dataframe tbody tr th:only-of-type {\n",
       "        vertical-align: middle;\n",
       "    }\n",
       "\n",
       "    .dataframe tbody tr th {\n",
       "        vertical-align: top;\n",
       "    }\n",
       "\n",
       "    .dataframe thead th {\n",
       "        text-align: right;\n",
       "    }\n",
       "</style>\n",
       "<table border=\"1\" class=\"dataframe\">\n",
       "  <thead>\n",
       "    <tr style=\"text-align: right;\">\n",
       "      <th></th>\n",
       "      <th>Age</th>\n",
       "      <th>Year</th>\n",
       "      <th>Marital status</th>\n",
       "      <th>Anxiety</th>\n",
       "      <th>Panic Attacks</th>\n",
       "      <th>Specialist Treatment</th>\n",
       "      <th>Gender_n</th>\n",
       "      <th>Course_n</th>\n",
       "      <th>CGPA_ n</th>\n",
       "    </tr>\n",
       "  </thead>\n",
       "  <tbody>\n",
       "    <tr>\n",
       "      <th>96</th>\n",
       "      <td>21</td>\n",
       "      <td>1</td>\n",
       "      <td>0</td>\n",
       "      <td>1</td>\n",
       "      <td>0</td>\n",
       "      <td>0</td>\n",
       "      <td>0</td>\n",
       "      <td>2</td>\n",
       "      <td>0</td>\n",
       "    </tr>\n",
       "    <tr>\n",
       "      <th>97</th>\n",
       "      <td>18</td>\n",
       "      <td>2</td>\n",
       "      <td>0</td>\n",
       "      <td>1</td>\n",
       "      <td>0</td>\n",
       "      <td>0</td>\n",
       "      <td>1</td>\n",
       "      <td>17</td>\n",
       "      <td>1</td>\n",
       "    </tr>\n",
       "    <tr>\n",
       "      <th>98</th>\n",
       "      <td>19</td>\n",
       "      <td>3</td>\n",
       "      <td>1</td>\n",
       "      <td>0</td>\n",
       "      <td>1</td>\n",
       "      <td>0</td>\n",
       "      <td>0</td>\n",
       "      <td>38</td>\n",
       "      <td>0</td>\n",
       "    </tr>\n",
       "    <tr>\n",
       "      <th>99</th>\n",
       "      <td>23</td>\n",
       "      <td>4</td>\n",
       "      <td>0</td>\n",
       "      <td>0</td>\n",
       "      <td>0</td>\n",
       "      <td>0</td>\n",
       "      <td>0</td>\n",
       "      <td>39</td>\n",
       "      <td>0</td>\n",
       "    </tr>\n",
       "    <tr>\n",
       "      <th>100</th>\n",
       "      <td>20</td>\n",
       "      <td>2</td>\n",
       "      <td>0</td>\n",
       "      <td>0</td>\n",
       "      <td>0</td>\n",
       "      <td>0</td>\n",
       "      <td>1</td>\n",
       "      <td>7</td>\n",
       "      <td>1</td>\n",
       "    </tr>\n",
       "  </tbody>\n",
       "</table>\n",
       "</div>"
      ],
      "text/plain": [
       "     Age Year  Marital status  Anxiety  Panic Attacks  Specialist Treatment  \\\n",
       "96    21    1               0        1              0                     0   \n",
       "97    18    2               0        1              0                     0   \n",
       "98    19    3               1        0              1                     0   \n",
       "99    23    4               0        0              0                     0   \n",
       "100   20    2               0        0              0                     0   \n",
       "\n",
       "     Gender_n  Course_n  CGPA_ n  \n",
       "96          0         2        0  \n",
       "97          1        17        1  \n",
       "98          0        38        0  \n",
       "99          0        39        0  \n",
       "100         1         7        1  "
      ]
     },
     "execution_count": 37,
     "metadata": {},
     "output_type": "execute_result"
    }
   ],
   "source": [
    "input.tail()"
   ]
  },
  {
   "cell_type": "code",
   "execution_count": 38,
   "id": "61e5306e",
   "metadata": {
    "execution": {
     "iopub.execute_input": "2023-12-28T16:38:55.489818Z",
     "iopub.status.busy": "2023-12-28T16:38:55.489170Z",
     "iopub.status.idle": "2023-12-28T16:38:55.610502Z",
     "shell.execute_reply": "2023-12-28T16:38:55.609138Z"
    },
    "papermill": {
     "duration": 0.140184,
     "end_time": "2023-12-28T16:38:55.613357",
     "exception": false,
     "start_time": "2023-12-28T16:38:55.473173",
     "status": "completed"
    },
    "tags": []
   },
   "outputs": [],
   "source": [
    "from sklearn.model_selection import train_test_split\n",
    "X_train,X_test,y_train,y_test= train_test_split(input,target,test_size=0.4)"
   ]
  },
  {
   "cell_type": "code",
   "execution_count": 39,
   "id": "1e8d27c5",
   "metadata": {
    "execution": {
     "iopub.execute_input": "2023-12-28T16:38:55.644938Z",
     "iopub.status.busy": "2023-12-28T16:38:55.644533Z",
     "iopub.status.idle": "2023-12-28T16:38:56.067793Z",
     "shell.execute_reply": "2023-12-28T16:38:56.066418Z"
    },
    "papermill": {
     "duration": 0.442339,
     "end_time": "2023-12-28T16:38:56.070664",
     "exception": false,
     "start_time": "2023-12-28T16:38:55.628325",
     "status": "completed"
    },
    "tags": []
   },
   "outputs": [],
   "source": [
    "from sklearn.ensemble import RandomForestClassifier\n",
    "model=RandomForestClassifier(n_estimators = 20)"
   ]
  },
  {
   "cell_type": "code",
   "execution_count": 40,
   "id": "dea06ac0",
   "metadata": {
    "execution": {
     "iopub.execute_input": "2023-12-28T16:38:56.102456Z",
     "iopub.status.busy": "2023-12-28T16:38:56.102026Z",
     "iopub.status.idle": "2023-12-28T16:38:56.153504Z",
     "shell.execute_reply": "2023-12-28T16:38:56.152336Z"
    },
    "papermill": {
     "duration": 0.071757,
     "end_time": "2023-12-28T16:38:56.157011",
     "exception": false,
     "start_time": "2023-12-28T16:38:56.085254",
     "status": "completed"
    },
    "tags": []
   },
   "outputs": [
    {
     "data": {
      "text/html": [
       "<style>#sk-container-id-1 {color: black;background-color: white;}#sk-container-id-1 pre{padding: 0;}#sk-container-id-1 div.sk-toggleable {background-color: white;}#sk-container-id-1 label.sk-toggleable__label {cursor: pointer;display: block;width: 100%;margin-bottom: 0;padding: 0.3em;box-sizing: border-box;text-align: center;}#sk-container-id-1 label.sk-toggleable__label-arrow:before {content: \"▸\";float: left;margin-right: 0.25em;color: #696969;}#sk-container-id-1 label.sk-toggleable__label-arrow:hover:before {color: black;}#sk-container-id-1 div.sk-estimator:hover label.sk-toggleable__label-arrow:before {color: black;}#sk-container-id-1 div.sk-toggleable__content {max-height: 0;max-width: 0;overflow: hidden;text-align: left;background-color: #f0f8ff;}#sk-container-id-1 div.sk-toggleable__content pre {margin: 0.2em;color: black;border-radius: 0.25em;background-color: #f0f8ff;}#sk-container-id-1 input.sk-toggleable__control:checked~div.sk-toggleable__content {max-height: 200px;max-width: 100%;overflow: auto;}#sk-container-id-1 input.sk-toggleable__control:checked~label.sk-toggleable__label-arrow:before {content: \"▾\";}#sk-container-id-1 div.sk-estimator input.sk-toggleable__control:checked~label.sk-toggleable__label {background-color: #d4ebff;}#sk-container-id-1 div.sk-label input.sk-toggleable__control:checked~label.sk-toggleable__label {background-color: #d4ebff;}#sk-container-id-1 input.sk-hidden--visually {border: 0;clip: rect(1px 1px 1px 1px);clip: rect(1px, 1px, 1px, 1px);height: 1px;margin: -1px;overflow: hidden;padding: 0;position: absolute;width: 1px;}#sk-container-id-1 div.sk-estimator {font-family: monospace;background-color: #f0f8ff;border: 1px dotted black;border-radius: 0.25em;box-sizing: border-box;margin-bottom: 0.5em;}#sk-container-id-1 div.sk-estimator:hover {background-color: #d4ebff;}#sk-container-id-1 div.sk-parallel-item::after {content: \"\";width: 100%;border-bottom: 1px solid gray;flex-grow: 1;}#sk-container-id-1 div.sk-label:hover label.sk-toggleable__label {background-color: #d4ebff;}#sk-container-id-1 div.sk-serial::before {content: \"\";position: absolute;border-left: 1px solid gray;box-sizing: border-box;top: 0;bottom: 0;left: 50%;z-index: 0;}#sk-container-id-1 div.sk-serial {display: flex;flex-direction: column;align-items: center;background-color: white;padding-right: 0.2em;padding-left: 0.2em;position: relative;}#sk-container-id-1 div.sk-item {position: relative;z-index: 1;}#sk-container-id-1 div.sk-parallel {display: flex;align-items: stretch;justify-content: center;background-color: white;position: relative;}#sk-container-id-1 div.sk-item::before, #sk-container-id-1 div.sk-parallel-item::before {content: \"\";position: absolute;border-left: 1px solid gray;box-sizing: border-box;top: 0;bottom: 0;left: 50%;z-index: -1;}#sk-container-id-1 div.sk-parallel-item {display: flex;flex-direction: column;z-index: 1;position: relative;background-color: white;}#sk-container-id-1 div.sk-parallel-item:first-child::after {align-self: flex-end;width: 50%;}#sk-container-id-1 div.sk-parallel-item:last-child::after {align-self: flex-start;width: 50%;}#sk-container-id-1 div.sk-parallel-item:only-child::after {width: 0;}#sk-container-id-1 div.sk-dashed-wrapped {border: 1px dashed gray;margin: 0 0.4em 0.5em 0.4em;box-sizing: border-box;padding-bottom: 0.4em;background-color: white;}#sk-container-id-1 div.sk-label label {font-family: monospace;font-weight: bold;display: inline-block;line-height: 1.2em;}#sk-container-id-1 div.sk-label-container {text-align: center;}#sk-container-id-1 div.sk-container {/* jupyter's `normalize.less` sets `[hidden] { display: none; }` but bootstrap.min.css set `[hidden] { display: none !important; }` so we also need the `!important` here to be able to override the default hidden behavior on the sphinx rendered scikit-learn.org. See: https://github.com/scikit-learn/scikit-learn/issues/21755 */display: inline-block !important;position: relative;}#sk-container-id-1 div.sk-text-repr-fallback {display: none;}</style><div id=\"sk-container-id-1\" class=\"sk-top-container\"><div class=\"sk-text-repr-fallback\"><pre>RandomForestClassifier(n_estimators=20)</pre><b>In a Jupyter environment, please rerun this cell to show the HTML representation or trust the notebook. <br />On GitHub, the HTML representation is unable to render, please try loading this page with nbviewer.org.</b></div><div class=\"sk-container\" hidden><div class=\"sk-item\"><div class=\"sk-estimator sk-toggleable\"><input class=\"sk-toggleable__control sk-hidden--visually\" id=\"sk-estimator-id-1\" type=\"checkbox\" checked><label for=\"sk-estimator-id-1\" class=\"sk-toggleable__label sk-toggleable__label-arrow\">RandomForestClassifier</label><div class=\"sk-toggleable__content\"><pre>RandomForestClassifier(n_estimators=20)</pre></div></div></div></div></div>"
      ],
      "text/plain": [
       "RandomForestClassifier(n_estimators=20)"
      ]
     },
     "execution_count": 40,
     "metadata": {},
     "output_type": "execute_result"
    }
   ],
   "source": [
    "model.fit(X_train,y_train)\n"
   ]
  },
  {
   "cell_type": "code",
   "execution_count": 41,
   "id": "c942b899",
   "metadata": {
    "execution": {
     "iopub.execute_input": "2023-12-28T16:38:56.190281Z",
     "iopub.status.busy": "2023-12-28T16:38:56.189875Z",
     "iopub.status.idle": "2023-12-28T16:38:56.200316Z",
     "shell.execute_reply": "2023-12-28T16:38:56.199361Z"
    },
    "papermill": {
     "duration": 0.029081,
     "end_time": "2023-12-28T16:38:56.202530",
     "exception": false,
     "start_time": "2023-12-28T16:38:56.173449",
     "status": "completed"
    },
    "tags": []
   },
   "outputs": [
    {
     "data": {
      "text/plain": [
       "array(['Yes', 'Yes', 'No', 'Yes', 'Yes', 'No', 'No', 'No', 'No', 'No',\n",
       "       'No', 'No', 'Yes', 'No', 'No', 'No', 'No', 'No', 'Yes', 'No', 'No',\n",
       "       'No', 'No', 'No', 'Yes', 'No', 'Yes', 'No', 'No', 'Yes', 'No',\n",
       "       'No', 'No', 'No', 'No', 'No', 'Yes', 'No', 'No', 'No'],\n",
       "      dtype=object)"
      ]
     },
     "execution_count": 41,
     "metadata": {},
     "output_type": "execute_result"
    }
   ],
   "source": [
    "model.predict(X_test)"
   ]
  },
  {
   "cell_type": "code",
   "execution_count": 42,
   "id": "c3ad72d8",
   "metadata": {
    "execution": {
     "iopub.execute_input": "2023-12-28T16:38:56.234679Z",
     "iopub.status.busy": "2023-12-28T16:38:56.234310Z",
     "iopub.status.idle": "2023-12-28T16:38:56.246614Z",
     "shell.execute_reply": "2023-12-28T16:38:56.245710Z"
    },
    "papermill": {
     "duration": 0.031422,
     "end_time": "2023-12-28T16:38:56.248825",
     "exception": false,
     "start_time": "2023-12-28T16:38:56.217403",
     "status": "completed"
    },
    "tags": []
   },
   "outputs": [
    {
     "data": {
      "text/plain": [
       "0.725"
      ]
     },
     "execution_count": 42,
     "metadata": {},
     "output_type": "execute_result"
    }
   ],
   "source": [
    "model.score(X_test,y_test)"
   ]
  },
  {
   "cell_type": "code",
   "execution_count": null,
   "id": "6eaf575a",
   "metadata": {
    "papermill": {
     "duration": 0.014358,
     "end_time": "2023-12-28T16:38:56.278903",
     "exception": false,
     "start_time": "2023-12-28T16:38:56.264545",
     "status": "completed"
    },
    "tags": []
   },
   "outputs": [],
   "source": []
  }
 ],
 "metadata": {
  "kaggle": {
   "accelerator": "none",
   "dataSources": [
    {
     "datasetId": 2168167,
     "sourceId": 5012788,
     "sourceType": "datasetVersion"
    }
   ],
   "dockerImageVersionId": 30615,
   "isGpuEnabled": false,
   "isInternetEnabled": false,
   "language": "python",
   "sourceType": "notebook"
  },
  "kernelspec": {
   "display_name": "Python 3",
   "language": "python",
   "name": "python3"
  },
  "language_info": {
   "codemirror_mode": {
    "name": "ipython",
    "version": 3
   },
   "file_extension": ".py",
   "mimetype": "text/x-python",
   "name": "python",
   "nbconvert_exporter": "python",
   "pygments_lexer": "ipython3",
   "version": "3.10.12"
  },
  "papermill": {
   "default_parameters": {},
   "duration": 8.581028,
   "end_time": "2023-12-28T16:38:56.915979",
   "environment_variables": {},
   "exception": null,
   "input_path": "__notebook__.ipynb",
   "output_path": "__notebook__.ipynb",
   "parameters": {},
   "start_time": "2023-12-28T16:38:48.334951",
   "version": "2.4.0"
  }
 },
 "nbformat": 4,
 "nbformat_minor": 5
}
